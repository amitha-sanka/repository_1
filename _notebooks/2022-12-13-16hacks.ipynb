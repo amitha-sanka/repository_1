{
 "cells": [
  {
   "attachments": {},
   "cell_type": "markdown",
   "metadata": {},
   "source": [
    "# Section 16\n",
    "> Notes and Hacks \n",
    "- comments: true\n",
    "- toc: true"
   ]
  },
  {
   "attachments": {},
   "cell_type": "markdown",
   "metadata": {},
   "source": [
    "## Notes\n",
    "- simulation: a way to simulate real-world environments to test safety or logistics\n",
    "- simulations will not have the same result \n",
    "- simulation investigates phenomenon without real world constraints of time etc.\n",
    "- experiments are more accurate than simulations\n",
    "- should remove other details to improve functionality of the simulation\n",
    "- pseudo-random number generators are used to mock the imperfections that are always in the real world and save resources\n",
    "- when making a simulation you should consider:\n",
    "    - Removing details by using pseudo-random number generators\n",
    "    - Using other ideas; like procedure, flowcharts and conditionals\n",
    "- not suitable if the circumstances are very complicated or if an experiment would be easier\n",
    "- simulations replicate real world scenarios digitally \n",
    "- experiments are held in the real world\n",
    "- simulations are easier to repeat to obtain more estimations\n",
    "- useful in predicting how something will happen in future based on previously collected data"
   ]
  },
  {
   "attachments": {},
   "cell_type": "markdown",
   "metadata": {},
   "source": [
    "## Answer table\n",
    "\n",
    "Comment on this [blog post](https://edwinkuttappi.github.io/farmers/2022/11/17/hacks.html) to submit your hacks. <br> <br>\n",
    "Fill out the table with your full name and the LETTER of each answer for every question. **In order to receive any credit you must fill out the answer table according to the directions!** Each question is worth .1 points. To get >0.9/1 you can show your understanding in the area labeled extra. \n",
    "\n",
    "|Question|Answer|\n",
    "|---|---|\n",
    "|Name(First Last)|Amitha Sanka|\n",
    "|1|A|\n",
    "|2|A|\n",
    "|3|C|\n",
    "|4|C|\n",
    "|5|C|\n",
    "|6|A|\n",
    "|7|B|\n",
    "|8|no #8|\n",
    "|9|B|\n",
    "\n",
    "### Extra \n",
    "> Show your understanding. You could make a simple simulation, define vocab, etc."
   ]
  },
  {
   "attachments": {},
   "cell_type": "markdown",
   "metadata": {},
   "source": [
    "## Extra \n",
    "\n",
    "Creating my own simulation: \n",
    "\n",
    "- Fox5 Weather meteorologits and reporters want to plan a drill\n",
    "- The purpose of the simulation is to test safety and logistics of the drill\n",
    "- In case an emergency arises in San Diego, the reporters plan to repeat this simulation in case another doubt comes up since they do not have any time constraints and have the ability to repeat \n",
    "- Want to set up a simulation before putting the word out to the public"
   ]
  },
  {
   "cell_type": "markdown",
   "metadata": {},
   "source": [
    "## WHAT QUESTIONS\n",
    "\n",
    "3: What is not a reason to use a pseudo-random number generator when making a simulation?\n",
    "\n",
    "<br>A: To mock imperfections from the real world<br>B: To save resources <br>C: To make the simulation more accurate<br>\n",
    "\n",
    "4: Which of the following is the least likely factor to be removed from a flight(air traffic) simulation for functionality?\n",
    "<br>A: Weather<br>B: Other aircraft<br>C: Imperfections on aircraft\n",
    "\n",
    "## Experiment/Calculation or Simulation\n",
    "\n",
    "5: What is not (usually) a difference between a experiment and a simulation?\n",
    "<br>A: Resources and time needed <br>B: Factors considered <br>C: Situation considered\n",
    "\n",
    "**For each situation answer: Would it make more sense to use a simulation or a experiment/calculation?**\n",
    "\n",
    "6: A car company needs to know how safe it's customers will be if it's new car crashes\n",
    "<br>A: Simulation <br>B: Experiment/calculation<br>\n",
    "\n",
    "7: A environmental group wants an accurate guess on the impact the greenhouse effect will have on the environment\n",
    "<br>A: Simulation <br>B: Experiment/calculation<br>\n",
    "\n",
    "9: A teacher want's to find the average score from a final \n",
    "<br>A: Simulation <br>B: Experiment/calculation\n",
    "\n"
   ]
  },
  {
   "attachments": {},
   "cell_type": "markdown",
   "metadata": {},
   "source": [
    "## Reflection\n",
    "\n",
    "The Section 16 lesson was semi difficult to understand, I understood a majority of it initially. However, after finishing the hacks I gained a better understanding of simulations and how they function. The way the lesson was presented made it a little confusing to me because it mainly consisted of a lot of defintions being presented, so actually understanding the material was difficult while the group was presenting."
   ]
  }
 ],
 "metadata": {
  "kernelspec": {
   "display_name": "Python 3.9.12 ('base')",
   "language": "python",
   "name": "python3"
  },
  "language_info": {
   "codemirror_mode": {
    "name": "ipython",
    "version": 3
   },
   "file_extension": ".py",
   "mimetype": "text/x-python",
   "name": "python",
   "nbconvert_exporter": "python",
   "pygments_lexer": "ipython3",
   "version": "3.9.12"
  },
  "orig_nbformat": 4,
  "vscode": {
   "interpreter": {
    "hash": "6a7ffd337263e842f3b464f5c9a18b5093416ef367acb95f7729f0a713abdb5e"
   }
  }
 },
 "nbformat": 4,
 "nbformat_minor": 2
}

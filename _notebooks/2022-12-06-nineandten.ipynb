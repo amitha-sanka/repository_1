{
 "cells": [
  {
   "cell_type": "markdown",
   "metadata": {},
   "source": [
    "# Sections 9 and 11\n",
    "> Hacks\n",
    "\n",
    "- toc: true\n",
    "- badges: true\n",
    "- comments: true\n",
    "- categories: [csp]"
   ]
  },
  {
   "cell_type": "markdown",
   "metadata": {},
   "source": [
    "## Notes \n",
    "\n",
    "### 3.9 Video 1 \n",
    "- Algorithms can be written in mulitple ways and do the same tasks\n",
    "- Yield different side effects or results\n",
    "- Conditional statements can be written as equivalent Boolean expressions\n",
    "- Boolean expressions can be written as equivalent conditional statements\n",
    "- Different algorithms can be developed or used to solve the same problem\n",
    "\n",
    "### 3.9 Video 2 \n",
    "\n",
    "- Algorithms can be created from an idea, by combining existing algorithms, or by modifying existing algorithms.\n",
    "- Iteration: Repeating steps, or instructions over and over again. ( this could be also often called a loop )\n",
    "- Selection: is a decision or question. At some point in an algorithm there may need to be a question because the algorithm has reached a step where one or more options are available.\n",
    "\n",
    "### 3.9 Video 3 \n",
    "\n",
    "- Determining the maximum or minimum value of two or more numbers. Computing the sum or average of two or more numbers. Identifying if an integer is or is not evenly divisible by another integer. Determining a robot’s path through a maze.\n",
    "- Using existing correct algorithms as building blocks for making another algorithm has benefits \n",
    "- Benefits = reducing development time, reduce testing, and simplifying the identification of errors.\n",
    "- Algorithm: A process or set of rules to be followed in calculations or other problem solving operations, especially by a computer.\n",
    "\n",
    "### 3.11 Video 1\n",
    "\n",
    "- Determine the number of iterations required to find a value in a data set.\n",
    "- Explain the requirements necessary to complete a binary search.\n",
    "- The binary search algorithm starts at the middle of a sorted data set of numbers and eliminates half of the data; this process repeats until the desired value is found or all elements have been eliminated.\n",
    "- Data must be in sorted order to use the binary search algorithm\n",
    "- A binary search is often more efficient than sequential/linear search when applied to sorted data.\n",
    "- While using Binary Search you have to put the group of numbers from ascending or descending order\n",
    "- What the computer does it takes the lowest index and the highest index, adds them and then divides that value by 2.\n",
    "- This gets the middle value and starts the search at the middle of the group.\n",
    "\n",
    "## Hacks"
   ]
  },
  {
   "cell_type": "code",
   "execution_count": 4,
   "metadata": {},
   "outputs": [
    {
     "ename": "SyntaxError",
     "evalue": "invalid syntax (894891974.py, line 2)",
     "output_type": "error",
     "traceback": [
      "\u001b[0;36m  Input \u001b[0;32mIn [4]\u001b[0;36m\u001b[0m\n\u001b[0;31m    if (isCold or isRaining) {\u001b[0m\n\u001b[0m                             ^\u001b[0m\n\u001b[0;31mSyntaxError\u001b[0m\u001b[0;31m:\u001b[0m invalid syntax\n"
     ]
    }
   ],
   "source": [
    "1. \n",
    "if (isCold or isRaining) {\n",
    "    stayInside <- True\n",
    "}\n",
    "else {\n",
    "    stayInside <- False\n",
    "}"
   ]
  },
  {
   "cell_type": "markdown",
   "metadata": {},
   "source": [
    "4. ![binarysearchtree](https://cdn.discordapp.com/attachments/1010052426490982461/1049918356804882442/IMG_0713.jpg)"
   ]
  },
  {
   "cell_type": "markdown",
   "metadata": {},
   "source": [
    "5. ANSWER "
   ]
  },
  {
   "cell_type": "markdown",
   "metadata": {},
   "source": [
    "7. \n",
    "**Unsorted List of Strings**\n",
    "\n",
    "[“store”, ”Market”, ”Walmart”, \"Target”, ”Ralphs”]\n",
    "\n",
    "**Sorted List of Strings**\n",
    "\n",
    "[\"Market”, ”Ralphs”, “store”, \"Target”, ”Walmart”]"
   ]
  },
  {
   "cell_type": "markdown",
   "metadata": {},
   "source": [
    "8. Explain why Binary Search is more efficient than Sequential Search. \n",
    "\n",
    "Binary search is more efficient than sequential search because it makes it easier to find an item in a sorted list of items. It's more efficient because it works by continuously dividing half the proportion of the list , which could contain the item until it is narrowed down to one location. It is useful and efficient especially when there is a large set of data because it sorts it and finds the user’s final goal. Sequential search Is not as efficient as binary search because it finds a value in an unsorted array. However, if an array is sorted in the order of increasing value, then binary search is the most efficient and ideal way to go when approaching searching. \n",
    "\n",
    "9. [64,36,16,11,9] \n",
    "Explain which number you are finding, how many check it would take, and make a binary search tree\n",
    "\n",
    "![binarytree2](____)\n",
    "\n",
    "\n",
    "I'm finding number 16 and it would take one check to find the number 16. It would take one check because the order of the numbers are ascending up, so it would give me the middle index number. \n",
    " \n",
    "\n",
    "\n"
   ]
  }
 ],
 "metadata": {
  "kernelspec": {
   "display_name": "Python 3.9.12 ('base')",
   "language": "python",
   "name": "python3"
  },
  "language_info": {
   "codemirror_mode": {
    "name": "ipython",
    "version": 3
   },
   "file_extension": ".py",
   "mimetype": "text/x-python",
   "name": "python",
   "nbconvert_exporter": "python",
   "pygments_lexer": "ipython3",
   "version": "3.9.12"
  },
  "orig_nbformat": 4,
  "vscode": {
   "interpreter": {
    "hash": "6a7ffd337263e842f3b464f5c9a18b5093416ef367acb95f7729f0a713abdb5e"
   }
  }
 },
 "nbformat": 4,
 "nbformat_minor": 2
}

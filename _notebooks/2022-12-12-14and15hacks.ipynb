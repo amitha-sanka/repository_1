{
 "cells": [
  {
   "attachments": {},
   "cell_type": "markdown",
   "metadata": {},
   "source": [
    "# Sections 14 and 15\n",
    "> Notes and Hacks \n",
    "\n",
    "- toc: true \n",
    "- badges: true\n",
    "- comments: true"
   ]
  },
  {
   "attachments": {},
   "cell_type": "markdown",
   "metadata": {},
   "source": [
    "# Notes\n",
    "- Libraries simplify difficult programs for the programmer \n",
    "- APIs specify how procedures in libraries should behave and be utilized.\n",
    "- Documentation for APIs/Libraries are necessary to gain proper understanding into how to use them.\n",
    "- <mark>Documentation:<mark> Text that explains the what, how, or why of your code.\n",
    "- <mark>Libraries:<mark> A collection of prewritten code or procedures that coders can use to maximize their efficiency\n",
    "- Software libraries contain procedures used in creating novel programs.\n",
    "- Existing code segments can be derived from internal or external sources: Libraries, Previously written code.\n",
    "- <mark>API:<mark>A type of software through several computers are able to communicate information amongst eachother\n",
    "- make maximize efficiency in novel code, it is best to use previously made procedures\n",
    "- **RANDOM(a, b):** which generates and returns a random integer from a to b, inclusive. Each result is equally likely to occur\n",
    "\n",
    "\n"
   ]
  },
  {
   "attachments": {},
   "cell_type": "markdown",
   "metadata": {},
   "source": [
    "# Hacks"
   ]
  },
  {
   "cell_type": "code",
   "execution_count": null,
   "metadata": {},
   "outputs": [],
   "source": []
  },
  {
   "attachments": {},
   "cell_type": "markdown",
   "metadata": {},
   "source": [
    "<strong>(1) Reflection</strong>\n",
    "\n",
    "From today's lesson on Sections 14 and 15, I learned about libraries and the different functions I can use to create randomization. I learned that libraries are useful in terms of simplfying a program and being more efficient when doing so. Using documentation is helpful when writing code because you can easily refer to it and understand it easily for yourself or even when helping others. There are multiple random.___ functions which help generate values in different . The random.___ functions are random.item, shuffle, and randint, which all have a different function and are used in different cases. In terms of how the lesson, I think I grasped the topics easily and understood the content thoroughly due to how the lesson was organized and taught. It was taught in a organized way and "
   ]
  },
  {
   "attachments": {},
   "cell_type": "markdown",
   "metadata": {},
   "source": [
    "<strong>(2) Multiple Choice</strong>"
   ]
  },
  {
   "attachments": {},
   "cell_type": "markdown",
   "metadata": {},
   "source": [
    "1. What does the random(a,b) function generate? \n",
    "\n",
    "A. A random integer from a to be exclusive\n",
    "\n",
    "<mark> B. A random integer from a to b inclusive. <mark>\n",
    "\n",
    "C. A random word from variable a to variable b exclusive.\n",
    "\n",
    "D. A random word from variable a to variable b inclusive.\n",
    "\n",
    "\n",
    "2. What is x, y, and z in random.randrange(x, y, z)?\n",
    "\n",
    "A. x = start, y = stop, z = step\n",
    "\n",
    "<mark> B. x = start, y = step, z = stop <mark>\n",
    "\n",
    "C. x = stop, y = start, z = step \n",
    "\n",
    "D. x = step, y = start, z = stop\n",
    "\n",
    "3. Which of the following is NOT part of the random library?\n",
    "\n",
    "A. random.item\n",
    "\n",
    "<mark> B. random.random <mark> Explanation: This is not part of the random library because you cannot random a random. \n",
    "\n",
    "C. random.shuffle\n",
    "\n",
    "D. random.randint\n"
   ]
  },
  {
   "attachments": {},
   "cell_type": "markdown",
   "metadata": {},
   "source": [
    "<strong>(3) Short Answer Questions</strong>\n",
    "\n",
    "1. What is the advantage of using libraries? \n",
    "\n",
    "The advantage of using libraries is that libraries help simplify complex programs and they also collect prewritten code and procedures. Libraries also help maximize their efficiency too. \n",
    "\n",
    "2. Write a thorough documentation of the following code."
   ]
  },
  {
   "cell_type": "code",
   "execution_count": 3,
   "metadata": {},
   "outputs": [
    {
     "name": "stdout",
     "output_type": "stream",
     "text": [
      " is going to buy the meal today!\n"
     ]
    }
   ],
   "source": [
    "import random #random library imported in order to use it's functions\n",
    "\n",
    "names_string = input(\"Give me everybody's names, seperated by a comma.\")\n",
    "names = names_string.split(\",\")\n",
    "\n",
    "num_items = len(names)\n",
    "\n",
    "random_choice = random.randint(0, num_items - 1) #pick a random choice from a list of strings\n",
    "\n",
    "person_who_will_pay = names[random_choice]\n",
    "\n",
    "print(f\"{person_who_will_pay} is going to buy the meal today!\")"
   ]
  },
  {
   "attachments": {},
   "cell_type": "markdown",
   "metadata": {},
   "source": [
    "<strong>(4) Coding Challenges!</strong>\n",
    "\n",
    "<mark>REQUIRED<mark>: Create programs in python to complete the two task\n",
    "\n",
    "1. Create a program to pick five random names from a list of at least 15 names"
   ]
  },
  {
   "cell_type": "code",
   "execution_count": 2,
   "metadata": {},
   "outputs": [
    {
     "name": "stdout",
     "output_type": "stream",
     "text": [
      "k were five of the random names from a list of at least 15 names.\n"
     ]
    }
   ],
   "source": [
    "import random \n",
    "\n",
    "names_string = input(\"A, B, C, D, E, F, G, H, I, J, K, L, M, N, O\")\n",
    "names = names_string.split(\",\")\n",
    "\n",
    "num_items = len(names)\n",
    "\n",
    "random_choice = random.randint(0, num_items - 1) #pick a random choice from a list of strings\n",
    "\n",
    "five_random_names = names[random_choice]\n",
    "\n",
    "print(f\"{five_random_names} were five of the random names from a list of at least 15 names.\")"
   ]
  },
  {
   "attachments": {},
   "cell_type": "markdown",
   "metadata": {},
   "source": [
    "2. Create a program to simulate a dice game where each player rolls two fair dice (6 sides); the player with the greater sum wins\n",
    "\n",
    "<mark>EXTRA-CREDIT OPPORTUNITY</mark>: \n",
    "\n",
    "3. Create a program to randomly generate one of those 5x5 square CollegeBoard robot courses frequently seen in these lessons. Here are the criteria:\n",
    "\n",
    "- No need to create a graphical user interface (output the course in graphical form); that would be too demanding. You can use store your randomizations in variables to be printed, after which you can sketch one instance of your output using any means (handdrawn, google drawings, etc.) to attach to your submission as an image.\n",
    "\n",
    "- Your illustration can differ graphically from CollegeBoard's illustrations as long as the robot, its direction, the wall squares, and the goal square are fairly self-evident (ie you can make the goal a present or food instead of a gray square)\n",
    "\n",
    "You must randomize the following:\n",
    "\n",
    "1. Initial direction of the robot (up, down, left, right)\n",
    "1. Initial Position of the robot\n",
    "1. Goal position\n",
    "1. Positions of at least 12 wall/obstacle squares\n",
    "\n",
    "The latter three must be mutually exclusive (on different squares). This prevents you from generating a course where the robot is on the goal, on a wall square, or the goal is in a wall square\n",
    "\n",
    "<mark>EXTRA X 2</mark>: Put safeguards in your program to make sure the robot course is actually possible to complete. This one is tough, so if you manage to do it you're pretty much guaranteed to get 1.0 points. This will not likely be the only way to get a perfect score, however."
   ]
  }
 ],
 "metadata": {
  "kernelspec": {
   "display_name": "Python 3.9.12 ('base')",
   "language": "python",
   "name": "python3"
  },
  "language_info": {
   "codemirror_mode": {
    "name": "ipython",
    "version": 3
   },
   "file_extension": ".py",
   "mimetype": "text/x-python",
   "name": "python",
   "nbconvert_exporter": "python",
   "pygments_lexer": "ipython3",
   "version": "3.9.12"
  },
  "orig_nbformat": 4,
  "vscode": {
   "interpreter": {
    "hash": "6a7ffd337263e842f3b464f5c9a18b5093416ef367acb95f7729f0a713abdb5e"
   }
  }
 },
 "nbformat": 4,
 "nbformat_minor": 2
}

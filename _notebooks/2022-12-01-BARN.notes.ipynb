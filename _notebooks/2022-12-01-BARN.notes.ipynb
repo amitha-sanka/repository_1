{
 "cells": [
  {
   "cell_type": "markdown",
   "metadata": {},
   "source": [
    "# 3.5, 3.6, 3.7 Notes "
   ]
  },
  {
   "cell_type": "markdown",
   "metadata": {},
   "source": [
    "- Boolean binary variable with only two possible values, \"true\" or \"false\"\n",
    "- Relational operators are =, >, <, ≠, ≥, and ≤\n",
    "- Python uses != instead of ≠\n",
    "- Algorithm: A finite set of instructions that accomplish a specific task\n",
    "- if statement:  go through certain statements if the if expression is true\n",
    "- if-else statement:  go through a statement no matter what, but the statement which is run depends on the if expression is true or false\n",
    "- use flowcharts to help organize the process of conditional statements\n",
    "- Nested conditional: A conditional inside of a conditional\n",
    "- used in algorithms in order to print specific data or run certain tasks\n",
    "- use conditionals inside conditionals to create further conditions in algorithms\n",
    "- flowcharts help display an diagram of what we want a code segment to do\n",
    "\n",
    "\n",
    "\n",
    "\n"
   ]
  }
 ],
 "metadata": {
  "kernelspec": {
   "display_name": "Python 3.9.12 ('base')",
   "language": "python",
   "name": "python3"
  },
  "language_info": {
   "name": "python",
   "version": "3.9.12"
  },
  "orig_nbformat": 4,
  "vscode": {
   "interpreter": {
    "hash": "6a7ffd337263e842f3b464f5c9a18b5093416ef367acb95f7729f0a713abdb5e"
   }
  }
 },
 "nbformat": 4,
 "nbformat_minor": 2
}

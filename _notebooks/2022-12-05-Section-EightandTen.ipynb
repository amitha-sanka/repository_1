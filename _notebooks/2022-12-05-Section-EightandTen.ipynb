{
 "cells": [
  {
   "cell_type": "markdown",
   "metadata": {},
   "source": [
    "# Section 8 and 10\n",
    "> Notes on Iteration and Lists \n",
    "- toc: true\n",
    "- comments: true\n",
    "- permalink: /lesson/eight\n",
    "- categories: [lesson]\n",
    "- tags: [Presentation]"
   ]
  },
  {
   "cell_type": "markdown",
   "metadata": {},
   "source": [
    "## Section 8 Big Ideas/Learning Objectives\n",
    "\n",
    "- Understanding What is Iteration\n",
    "- Using for and while loops\n",
    "\n",
    "## Section 10 Big Ideas/Learning Objectives\n",
    "\n",
    "- Understanding how to edit lists by adding, inserting, and removing data\n",
    "- Using loops to iterate through lists and abstract data\n",
    "- Determine the results or side effects of iteration statements\n",
    "- Write sorting algorithms using iteration"
   ]
  },
  {
   "cell_type": "markdown",
   "metadata": {},
   "source": [
    "## Section 8 Necessary Vocabulary\n",
    "\n",
    "- *Iteration*  - Repitition of a Process <br>\n",
    "- *`For Loop`* - FOR LOOP repeats a function for a set number of times; I is the number of times repeated <br>\n",
    "- *`While Loop`*  - The while loop is used to repeat a section of code an unknown number of times until a specific condition is met <br>\n",
    "- *Initialization* - What sets the counter variable to a starting value. For example (var i = 0) represents an initial value of 0. <br>\n",
    "- *Condition* - Allows the computer to know whether or not to keep repeating the loop.\n",
    "- *increment/decrement* - Modifies the counter variable after each repetition.\n",
    "\n",
    "## Section 10 Necessary Vocabulary\n",
    "\n",
    "- Indexing / List Index - The position of an element in a list, starting from 0 \n",
    "append, remove, pop - Various methods, append adds an element to the end, remove removes at an index, and pop removes the last item. \n",
    "- Elements [in a list] - An item in a list. \n",
    "- Nesting - Having one data type or function inside another data type or function, such as lists or loops. \n",
    "array - Another name for a list, depends on the language"
   ]
  },
  {
   "cell_type": "markdown",
   "metadata": {},
   "source": [
    "## What is Iteration?\n",
    "\n",
    "Iterative statements are also called loops, and they repeat themselves over and over until the condition for stopping is met. \n",
    "\n",
    "In College Board's Pseudocode, the first is a REPEAT n TIMES loop, where the n represents some number.\n",
    "\n",
    "![Alt text](../images/iteration.png)"
   ]
  },
  {
   "cell_type": "markdown",
   "metadata": {},
   "source": [
    "The second type of loop is a REPEAT UNTIL (condition) loop, where the loop will continue to run until a condition is met.\n",
    "\n",
    "![Alt text](../images/iteration2.png)\n",
    "\n",
    "Conceptually, a while loop is very similar to an if conditional, except that a while is continually executed until it's no longer true and an if is only executed once.\n"
   ]
  },
  {
   "cell_type": "markdown",
   "metadata": {},
   "source": [
    "### Practice\n",
    "**Consider the Following Code Segment. What is the Counter Variable and the Condition set as?**\n",
    "\n",
    "```\n",
    "    for (var i = 10; i > 0; i--) {\n",
    "   println(i);\n",
    "}\n",
    "```\n",
    "\n",
    "\n",
    "<details closed>\n",
    "<summary>Answer!</summary>\n",
    "[Counter Variable: 10, Condition: Greater than 0]\n",
    "</details>"
   ]
  },
  {
   "cell_type": "markdown",
   "metadata": {},
   "source": [
    "### Practice\n",
    "**Consider the Following Code Segment. How Many times will print(ln) be called?**\n",
    "\n",
    "```\n",
    "   for (var i = 1; i <= 10; i++) {\n",
    "  for (var j = 1; j <= 10; j++) {\n",
    "    println(i * j);\n",
    "  }\n",
    "}\n",
    "\n",
    "```\n",
    "\n",
    "\n",
    "<details closed>\n",
    "<summary>Answer!</summary>\n",
    "[100 Times.The computer will execute the outer for loop 10 times (starting at i = 1 and ending after i = 10). Each time that it executes the outer loop, it will execute the inner for loop 10 times (starting at j = 1 and ending after j = 10). Each inner execution will call println() once.10 times 10 times 1 is 100, so the computer will call println() 100 times.]\n",
    "</details>"
   ]
  },
  {
   "cell_type": "markdown",
   "metadata": {},
   "source": [
    "### Practice\n",
    "**Consider the Following Code Segment. What is it initial value? What does the while loop check?**\n",
    "\n",
    "```\n",
    "   var numRabbits = 2;\n",
    "var numYears = 0;\n",
    "while (numRabbits <= 100) {\n",
    "    numRabbits += (numRabbits/2 * 30);\n",
    "    numYears++;\n",
    "}\n",
    "\n",
    "\n",
    "```\n",
    "\n",
    "\n",
    "<details closed>\n",
    "<summary>Answer!</summary>\n",
    "[2 Rabbits.The while loop checks that the number of rabbits is less than 100. As long as the population is less the 100, the code inside the loop continues to run.]\n",
    "</details>"
   ]
  },
  {
   "cell_type": "markdown",
   "metadata": {},
   "source": [
    "## Sources\n",
    "- AP College Board/Classrom\n",
    "- Khan Academy: APCSP"
   ]
  },
  {
   "cell_type": "markdown",
   "metadata": {},
   "source": [
    "## Hacks \n",
    "\n",
    "### Exercise #1\n",
    "\n",
    "![excercise1](https://cdn.discordapp.com/attachments/1010052426490982461/1049440551021322300/Screen_Shot_2022-12-05_at_1.36.30_PM.png)"
   ]
  },
  {
   "cell_type": "code",
   "execution_count": 1,
   "metadata": {},
   "outputs": [
    {
     "name": "stdout",
     "output_type": "stream",
     "text": [
      "[5, 4, 3, 2, 1]\n",
      "None\n"
     ]
    }
   ],
   "source": [
    "list = [1, 2, 3, 4, 5] # Print this list in reverse order\n",
    "list.reverse()\n",
    "print(list)\n",
    "newlist = list.reverse()\n",
    "print(newlist)"
   ]
  },
  {
   "cell_type": "markdown",
   "metadata": {},
   "source": [
    "### Excercise #2\n",
    "\n",
    "![excerise2](https://cdn.discordapp.com/attachments/1010052426490982461/1049445616931045376/Screen_Shot_2022-12-05_at_1.58.21_PM.jpg)"
   ]
  },
  {
   "cell_type": "code",
   "execution_count": 2,
   "metadata": {},
   "outputs": [
    {
     "name": "stdout",
     "output_type": "stream",
     "text": [
      "List before sort: [9, 8, 4, 3, 5, 2, 6, 7, 1, 0]\n",
      "List after sort: [0, 1, 2, 3, 4, 5, 6, 7, 8, 9]\n"
     ]
    }
   ],
   "source": [
    "list = [9, 8, 4, 3, 5, 2, 6, 7, 1, 0] # Sort this array using bubble sort\n",
    "print(\"List before sort:\", list)\n",
    "def sort_list(list):\n",
    "    for index in range(1, len(list)):\n",
    "        value = list[index]\n",
    "        i= index - 1\n",
    "        while i>=0:\n",
    "            if value < list[i]:\n",
    "                list[i+1]= list[i]\n",
    "                list[i] = value\n",
    "                i = i - 1\n",
    "            else:\n",
    "                break\n",
    "IS = sort_list(list)\n",
    "print(\"List after sort:\", list)"
   ]
  },
  {
   "cell_type": "markdown",
   "metadata": {},
   "source": [
    "### Multiple Choice Quiz and Quiz Corrections\n",
    "\n",
    "**Question 6** \n",
    "![wrong1](https://cdn.discordapp.com/attachments/1010052426490982461/1049487492384038962/Screen_Shot_2022-12-05_at_2.05.13_PM.png)\n",
    "\n",
    "Explanation: My answer choice is wrong because I got confused with the defintion of what a POP command does. A POP command removes the last item in a list. My confusion is now cleared up after this question, and this will help me better understand what a POP command does and its function. \n",
    "\n",
    "**Question 8** \n",
    "![wrong2](https://cdn.discordapp.com/attachments/1010052426490982461/1049487505809997855/Screen_Shot_2022-12-05_at_2.05.53_PM.png)\n",
    "\n",
    "Explanation: My answer choice is wrong because the while loop is used to repeat a section of code an unknown number of times until a specific condition is met. A while loop does not iterate over an iterable and for a set amount of time and does not intuitively take an iterable or manipulate it over a set period using pointers. "
   ]
  }
 ],
 "metadata": {
  "kernelspec": {
   "display_name": "Python 3.9.12 ('base')",
   "language": "python",
   "name": "python3"
  },
  "language_info": {
   "codemirror_mode": {
    "name": "ipython",
    "version": 3
   },
   "file_extension": ".py",
   "mimetype": "text/x-python",
   "name": "python",
   "nbconvert_exporter": "python",
   "pygments_lexer": "ipython3",
   "version": "3.9.12"
  },
  "vscode": {
   "interpreter": {
    "hash": "6a7ffd337263e842f3b464f5c9a18b5093416ef367acb95f7729f0a713abdb5e"
   }
  }
 },
 "nbformat": 4,
 "nbformat_minor": 2
}

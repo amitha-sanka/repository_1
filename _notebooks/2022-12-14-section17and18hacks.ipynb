{
 "cells": [
  {
   "attachments": {},
   "cell_type": "markdown",
   "metadata": {},
   "source": [
    "# Sections 17 and 18\n",
    "> Notes and Hacks\n",
    "\n",
    "- toc: true \n",
    "- badges: true\n",
    "- comments: true \n",
    "- categories: [jupyter]"
   ]
  },
  {
   "attachments": {},
   "cell_type": "markdown",
   "metadata": {},
   "source": [
    "### Notes\n",
    "- Learning Objective: Explain the difference between algorithms that run in reasonable time and those that do not.\n",
    "- problem: a description of a task that may or may not be able to be solved through the use of an algorithm. \n",
    "- instances of problems include specific inputs \n",
    "- decision problem: a problem with a binary answer (yes or no)\n",
    "- optimization problem: a problem with the objective of finding the BEST solution amongst many possibilities to solve a problem\n",
    "- the efficiency is determined through formal and mathematical reasoning\n",
    "- two-step algorithm consists of an integer to the power of the variable 'n'\n",
    "- three-step algorithm is an algorithm where there is a variable multiplied by an integer, all to the power of 2\n",
    "- a four-step algorithm is a variable factorial\n",
    "- if an algorithm is linear or square\n",
    "    - it runs in a reasonable amount of time\n",
    "- categorize the run time of an algorithm according to how the number of steps increases as the input size increases\n",
    "-  constant increase: a very fast run time\n",
    "- exponential increase: a very slow run time\n",
    "- algorithm runs in constant time\n",
    "    - it means that it always takes a fixed number of steps despite how large the input size increases\n",
    "- algorithm grows in linear time\n",
    "    - its number of steps increases in direct proportion to the input size\n",
    "- algorithm grows in quadratic time\n",
    "    - its steps increase in proportion to the input size squared\n",
    "- selection sorts runs in quadratic time \n",
    "    - algorithm starts from the front of the list, then keeps finding the next smallest value in the list and swapping it with the current value\n",
    "- nested loop: it loops through each items in the list, and loops again through the remaining items for each of those items\n",
    "- algorithm grows in superpolynomial time \n",
    "    - its number of steps increases faster than a polynomial function of the input size\n",
    "-  often requires superpolynomial time when it must look at every permutation of values \n",
    "- unreasonable time \n",
    "    - exponential \n",
    "    - factorial efficiencies\n",
    "- reasonable time \n",
    "    - constant\n",
    "    - linear\n",
    "    - square\n",
    "    - cube\n",
    "- undecidable problem: no algorithms can be built that can provide a correct yes or no answer\n",
    "- have some instances of algorithmic solutions, but no algorithmic solutions that can solve all instances of the problem \n",
    "- Halting problem:  best known problem that has proven to be undecidable, no program can solve the Halting problem for sufficiently general computer programs"
   ]
  },
  {
   "cell_type": "markdown",
   "metadata": {},
   "source": [
    "### HACK 1"
   ]
  },
  {
   "attachments": {},
   "cell_type": "markdown",
   "metadata": {},
   "source": [
    "Please write a short 1-2 sentence explanation describing the difference between decidable and undecidable problems. Make sure to provide at least one example of each.\n",
    "\n",
    "\n",
    "A decidable problem is a problem for which algorithms can be written to solve and produce a correct output for all inputs and an example of a decidable problem is if a store bought 100 apples, then their balance would be 100 apples. Whereas an undecidable problem is a problem for which no algorithms can be built that can provide a correct yes or no answer or a solution. An example of an undecidable problem is if you were given a computer program that calculates grades, the user will input their current grade. So, the program will loop forever until the user receives their output."
   ]
  },
  {
   "cell_type": "markdown",
   "metadata": {},
   "source": [
    "### HACK 2"
   ]
  },
  {
   "attachments": {},
   "cell_type": "markdown",
   "metadata": {},
   "source": [
    "Which of the following is a 3 step algorithm?\n",
    "\n",
    "A. 2 x 6 x 8\n",
    "\n",
    "B. 4^5\n",
    "\n",
    "<mark> C. (3 x 8)^2 <mark>\n",
    "- C. is correct because a 3 step algorithm consists of when there is a variable multiplied by an integer, all to the power of 2. \n",
    "\n",
    "D. None of the above\n",
    "\n",
    "E. All of the above"
   ]
  },
  {
   "cell_type": "markdown",
   "metadata": {},
   "source": [
    "### HACK 3: Rewrite this JavaScript Code in a More Efficient Way (Hint: Use Binary Search)"
   ]
  },
  {
   "cell_type": "code",
   "execution_count": 5,
   "metadata": {},
   "outputs": [
    {
     "ename": "SyntaxError",
     "evalue": "invalid syntax (2994650908.py, line 1)",
     "output_type": "error",
     "traceback": [
      "\u001b[0;36m  Input \u001b[0;32mIn [5]\u001b[0;36m\u001b[0m\n\u001b[0;31m    function peak_finder(array){\u001b[0m\n\u001b[0m             ^\u001b[0m\n\u001b[0;31mSyntaxError\u001b[0m\u001b[0;31m:\u001b[0m invalid syntax\n"
     ]
    }
   ],
   "source": [
    "function peak_finder(array){\n",
    "  let counter = 0\n",
    "  let peak = 0\n",
    "  let peak_index =0\n",
    "  while (counter <= array.length){\n",
    "    console.log(counter)\n",
    "  if (counter === 0){\n",
    "    if (a[0]>=a[1]){\n",
    "      peak = a[0]\n",
    "      peak_index = counter\n",
    "      counter = array.length\n",
    "      return `The ${counter-1} indexed number, ${peak} is a peak`\n",
    "    }else{\n",
    "      counter+=1\n",
    "    }\n",
    "  }else if(counter === array.length-1){\n",
    "     if (a[array.length-1] >= a[array.length-2]){\n",
    "     peak = a[array.length-1]\n",
    "     peak_index = counter\n",
    "     counter = array.length\n",
    "     return `The ${counter-1} indexed number, ${peak} is a peak`\n",
    "     }\n",
    "   }else{\n",
    "      if (a[counter]> a[counter+1] && a[counter]> a[counter-1]){\n",
    "      peak = a[counter]\n",
    "      peak_index = counter\n",
    "      counter = array.length\n",
    "      return `The ${counter-1} indexed number, ${peak} is a peak`\n",
    "    }else{\n",
    "      counter += 1\n",
    "    }\n",
    "  }\n",
    "}\n",
    "}"
   ]
  },
  {
   "attachments": {},
   "cell_type": "markdown",
   "metadata": {},
   "source": [
    "**Answer:**"
   ]
  },
  {
   "cell_type": "code",
   "execution_count": 6,
   "metadata": {},
   "outputs": [
    {
     "ename": "SyntaxError",
     "evalue": "invalid syntax (2022783374.py, line 1)",
     "output_type": "error",
     "traceback": [
      "\u001b[0;36m  Input \u001b[0;32mIn [6]\u001b[0;36m\u001b[0m\n\u001b[0;31m    function peak_finder2(array){\u001b[0m\n\u001b[0m             ^\u001b[0m\n\u001b[0;31mSyntaxError\u001b[0m\u001b[0;31m:\u001b[0m invalid syntax\n"
     ]
    }
   ],
   "source": [
    "function peak_finder2(array){\n",
    "    if (array.length)=== 0{\n",
    "       return  `Array cannot be empty`\n",
    "     }else if (array.length === 1){\n",
    "       return array[0]\n",
    "     }else{\n",
    "       let mid_index = Math.floor(array.length*0.5)\n",
    "      if (array[mid_index +1]>array[mid_index]){\n",
    "         return peak_finding(array.slice(mid_index + 1 ))\n",
    "       }else if (array[mid_index -1]>array[mid_index]){ \n",
    "        new=array.reverse().slice(mid_index+1).reverse()\n",
    "        return peak_finding(new)  \n",
    "        }else{\n",
    "         return array[mid_index]\n",
    "        }\n",
    "      }\n",
    "}\n"
   ]
  },
  {
   "attachments": {},
   "cell_type": "markdown",
   "metadata": {},
   "source": [
    "I attempted doing this hack, however, I got stuck and did not understand so, I looked the answer to gain a better understanding. After, looking at the answer I noticed how the code in the answer is condensed in a simpler and shortened format and way, however still has the same function. In addition, the answer code does not set the peak, counter, and peak_index to 0 since using the counter function already assumes that it begins at the value 0 and that there is no reason in for typing in the 0. There are also array.slice and mid_index, which I observed were being used in substitution for the if else statement. The if else command is also used to reverse the array and to find the peak. Ultimately, the code is written in a shortened and simpler format in order to be efficient and easily understand for the user. "
   ]
  },
  {
   "cell_type": "markdown",
   "metadata": {},
   "source": [
    "### HACK 4: Rewrite this Python Code in a More Efficient Way"
   ]
  },
  {
   "cell_type": "code",
   "execution_count": null,
   "metadata": {},
   "outputs": [],
   "source": [
    "def merge_sort(data):\n",
    "    if len(data) <= 1:\n",
    "        return\n",
    "    \n",
    "    mid = len(data) // 2\n",
    "    left_data = data[:mid]\n",
    "    right_data = data[mid:]\n",
    "    \n",
    "    merge_sort(left_data)\n",
    "    merge_sort(right_data)\n",
    "    \n",
    "    left_index = 0\n",
    "    right_index = 0\n",
    "    data_index = 0\n",
    "    \n",
    "    while left_index < len(left_data) and right_index < len(right_data):\n",
    "        if left_data[left_index] < right_data[right_index]:\n",
    "            data[data_index] = left_data[left_index]\n",
    "            left_index += 1\n",
    "        else:\n",
    "            data[data_index] = right_data[right_index]\n",
    "            right_index += 1\n",
    "        data_index += 1\n",
    "    \n",
    "    if left_index < len(left_data):\n",
    "        del data[data_index:]\n",
    "        data += left_data[left_index:]\n",
    "    elif right_index < len(right_data):\n",
    "        del data[data_index:]\n",
    "        data += right_data[right_index:]\n",
    "    \n",
    "if __name__ == '__main__':\n",
    "    data = [9, 1, 7, 6, 2, 8, 5, 3, 4, 0]\n",
    "    merge_sort(data)\n",
    "    print(data)"
   ]
  },
  {
   "attachments": {},
   "cell_type": "markdown",
   "metadata": {},
   "source": [
    "**Answer:**"
   ]
  },
  {
   "cell_type": "code",
   "execution_count": 13,
   "metadata": {},
   "outputs": [
    {
     "name": "stdout",
     "output_type": "stream",
     "text": [
      "data unsorted: [9, 1, 7, 6, 2, 8, 5, 3, 4, 0]\n",
      ".....\n",
      "data sorted [0, 1, 2, 3, 4, 5, 6, 7, 8, 9]\n"
     ]
    }
   ],
   "source": [
    "givendata = [9, 1, 7, 6, 2, 8, 5, 3, 4, 0] \n",
    "\n",
    "print(\"data unsorted:\", givendata) \n",
    "\n",
    "print (\".....\") \n",
    "\n",
    "givendata.sort()  \n",
    "\n",
    "print(\"data sorted\", givendata) "
   ]
  },
  {
   "attachments": {},
   "cell_type": "markdown",
   "metadata": {},
   "source": [
    "Here, I used the Python function \"sort\" to order the list of number from lowest to greatest. "
   ]
  },
  {
   "cell_type": "markdown",
   "metadata": {},
   "source": [
    "### HACK 5: Rewrite this Python Code in a More Efficient Way"
   ]
  },
  {
   "cell_type": "code",
   "execution_count": 14,
   "metadata": {},
   "outputs": [
    {
     "name": "stdout",
     "output_type": "stream",
     "text": [
      "[1, 2, 3]\n",
      "[2, 1, 3]\n",
      "[3, 1, 2]\n",
      "[1, 3, 2]\n",
      "[2, 3, 1]\n",
      "[3, 2, 1]\n"
     ]
    }
   ],
   "source": [
    "def heap_permutation(data, n):\n",
    "    if n == 1:\n",
    "        print(data)\n",
    "        return\n",
    "    \n",
    "    for i in range(n):\n",
    "        heap_permutation(data, n - 1)\n",
    "        if n % 2 == 0:\n",
    "            data[i], data[n-1] = data[n-1], data[i]\n",
    "        else:\n",
    "            data[0], data[n-1] = data[n-1], data[0]\n",
    "    \n",
    "if __name__ == '__main__':\n",
    "    data = [1, 2, 3]\n",
    "    heap_permutation(data, len(data))"
   ]
  },
  {
   "attachments": {},
   "cell_type": "markdown",
   "metadata": {},
   "source": [
    "**Answer:**"
   ]
  },
  {
   "cell_type": "code",
   "execution_count": 18,
   "metadata": {},
   "outputs": [
    {
     "name": "stdout",
     "output_type": "stream",
     "text": [
      "(1, 2, 3)\n",
      "(1, 3, 2)\n",
      "(2, 1, 3)\n",
      "(2, 3, 1)\n",
      "(3, 1, 2)\n",
      "(3, 2, 1)\n"
     ]
    }
   ],
   "source": [
    "from itertools import permutations # import permutations with library function\n",
    "data = [1,2,3] # all the possible permutations\n",
    "for a in permutations(data):\n",
    "    print(a) # print permutations "
   ]
  },
  {
   "attachments": {},
   "cell_type": "markdown",
   "metadata": {},
   "source": [
    "In this code, I imported the permutation function from the library itertools, so I can make the permutation command. Then, I used a loop so I can iterate all the potential permutations to print permutations. "
   ]
  },
  {
   "attachments": {},
   "cell_type": "markdown",
   "metadata": {},
   "source": [
    "### Reflection"
   ]
  },
  {
   "attachments": {},
   "cell_type": "markdown",
   "metadata": {},
   "source": [
    "In this section, I learned about all the different types of algorithms. I learned the difference between each one and how to use new Python functions. I learned how different algorithms differ from each other and also when to use certain algorithms and when not to use them. Since particular algorithms are used based on situation by situation. The lesson was also presented well, all the examples were extremely helpful and helped me understand the material and complete the hacks thoroughly. "
   ]
  }
 ],
 "metadata": {
  "kernelspec": {
   "display_name": "Python 3.9.12 ('base')",
   "language": "python",
   "name": "python3"
  },
  "language_info": {
   "codemirror_mode": {
    "name": "ipython",
    "version": 3
   },
   "file_extension": ".py",
   "mimetype": "text/x-python",
   "name": "python",
   "nbconvert_exporter": "python",
   "pygments_lexer": "ipython3",
   "version": "3.9.12"
  },
  "orig_nbformat": 4,
  "vscode": {
   "interpreter": {
    "hash": "6a7ffd337263e842f3b464f5c9a18b5093416ef367acb95f7729f0a713abdb5e"
   }
  }
 },
 "nbformat": 4,
 "nbformat_minor": 2
}

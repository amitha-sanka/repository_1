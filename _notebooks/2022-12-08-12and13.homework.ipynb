{
 "cells": [
  {
   "cell_type": "markdown",
   "metadata": {},
   "source": [
    "# Section 12 and 13\n",
    "> Notes and Hacks\n",
    "\n",
    "- toc: true \n",
    "- badges: true\n",
    "- comments: true\n",
    "- categories: [markdown]"
   ]
  },
  {
   "cell_type": "markdown",
   "metadata": {},
   "source": [
    "## Notes \n",
    "\n",
    "- **Procedure:** a named group of programming instructions that may have parameters and return values.\n",
    "    - can be reffered to as method or function \n",
    "    - procedure call interrupts an execution of statements and makes the program execute the statements in the procedure. \n",
    "- **Parameters:**  input values of a procedure. \n",
    "- Arguments specify the values of the parameters when a procedure is called\n",
    "- There are two types of procedures, one that returns a value or some type of data and on that just executes a block of statements\n",
    "- When you are picking a name for the procedure it must be descriptive\n",
    "- See if you need any parameters for this procedure (what data do you need to accomplish my goal? What king of information am I going to need?)\n",
    "- 2 of the parameters in the example below could be the quizGrade and currentPoints (need this data)\n",
    "- How to code Procedures-While Coding a procedure you must makes sure it has as name and a clear purpose weather to executre a response or complete an action\n",
    "- One common type of abstraction is procedrual abstraction, which provides a name for a process and allows a procedure to be only knowing what it doe,not how it does it. \n",
    "- **Modularity:** the practice of breaking a complex program into smaller, independent parts or modules that can be used and reused in different parts of the program"
   ]
  },
  {
   "cell_type": "markdown",
   "metadata": {},
   "source": [
    "## Hacks \n",
    "\n",
    "### 3.12 part 1\n",
    "\n",
    "Problem 2: This problem involves parameters\n",
    "\n",
    "Qais is writing code to calculate formulas from his math class. He's currently working on a procedure to calculate average speed, based on this formula:\n",
    "\n",
    "Average speed= \n",
    "\n",
    "Total Time/Total Distance\n",
    "​\n",
    "- Highlight which of these is the best procedure for calculating and displaying average speed.\n",
    "    - <mark>PROCEDURE calcAvgSpeed (distance, time) {\n",
    "    DISPLAY (distance/time)\n",
    "}<mark>\n",
    "    - PROCEDURE calcAvgSpeed (distance) {\n",
    "    DISPLAY (distance/time)\n",
    "}\n",
    "    - PROCEDURE calcAvgSpeed (distance, time) {\n",
    "    DISPLAY (time/distance)\n",
    "}\n",
    "\n",
    "---------------------------------------------------------------------------------------------------------\n",
    "Problem 3: Procedures with return values\n",
    "\n",
    "James Hunter is looking through his classmate's program and sees a procedure called heightenEmotions:\n",
    "PROCEDURE heightenEmotions(myEmotion) \n",
    "\n",
    "{\n",
    "moreEnergy ← CONCAT(myEmotion, \"!!!\")\n",
    "\n",
    "moreVolume ← UPPER(moreEnergy)\n",
    "\n",
    "RETURN moreVolume\n",
    "}\n",
    "\n",
    "That procedure manipulates strings using two built-in procedures, CONCAT for concatenating two strings together, and UPPER for converting a string to uppercase.\n",
    "\n",
    "James Hunter then sees this line of code:\n",
    "\n",
    "heightenEmotions(\"im mad\")\n",
    "\n",
    "After that line of code runs, will nothing be displayed?\n",
    "\n",
    "<mark>True<mark>\n",
    "\n",
    "False\n",
    "\n",
    "---------------------------------------------------------------------------------------------\n",
    "\n",
    "Problem 4: Procedures with return values\n",
    "Bubz is writing a program to calculate the carbon footprint of his activities.\n",
    "The procedure calcFlightFootprint calculates the pounds of carbon dioxide produced per passenger in a flight that covers a given number of miles and seats a given number of passengers.\n",
    "\n",
    "PROCEDURE calcFlightFootprint(numMiles, numPassengers)\n",
    "{\n",
    "   CO2_PER_MILE ← 53.29\n",
    "\n",
    "   carbonPerFlight ← numMiles * CO2_PER_MILE\n",
    "\n",
    "   carbonPerPassenger  ← carbonPerFlight / numPassengers\n",
    "\n",
    "   RETURN carbonPerPassenger\n",
    "\n",
    "}\n",
    "\n",
    "Bubz wants to use that procedure to calculate the total footprint for his two upcoming flights:\n",
    "LA to NY: 2,451 miles and 118 passengers\n",
    "NY to London: 3,442 miles and 252 passengers\n",
    "\n",
    "Which of these code snippets successfully calculates and stores her total footprint?\n",
    "Highlight 2 answers.\n",
    "\n",
    "1. \n",
    "<mark>totalFootprint ← calcFlightFootprint(2451, 118) + calcFlightFootprint(3442, 252)<mark>\n",
    "\n",
    "2. \n",
    "totalFootprint ← calcFlightFootprint(2451, 118 + 3442, 252)\n",
    "\n",
    "3. \n",
    "\n",
    "totalFootprint ← calcFlightFootprint((2451, 118) + (3442, 252))\n",
    "\n",
    "4. \n",
    "laNyCarbon ← calcFlightFootprint(2451, 118)\n",
    "nyLondonCarbon ← calcFlightFootprint(3442, 252)\n",
    "totalFootprint ← laNyCarbon + nyLondonCarbon"
   ]
  },
  {
   "attachments": {},
   "cell_type": "markdown",
   "metadata": {},
   "source": [
    "### 3.12 Homework/Hacks part 2\n"
   ]
  },
  {
   "attachments": {},
   "cell_type": "markdown",
   "metadata": {},
   "source": [
    "\n",
    "a -- ? b -- ? c -- 9 \n",
    "PROCEDURE find a ()\n",
    "{    b <-- 9 * 9    \n",
    " a <-- b * c     \n",
    " Print (a) } \n",
    "What is a?   A = 729\n",
    "cost ⟵ 173 tax - 10% \n",
    "PROCEDURE applytax (cost, cpercentDiscounted){    temp <-- 100 + percentTaxed     temp <-- temp / 100     cost <-- cost x temp       Print(cost)} \n",
    "\n",
    "What is the cost? Cost is $11\n",
    "\n",
    "Tempature - 103 Degrees PROCEDURE convet Fahrenheit (tempature)\n",
    "{    Celsius <-- tempature - 32       Celsius <-- Celsius x 5/9      \n",
    " Print (Celsius)} "
   ]
  },
  {
   "attachments": {},
   "cell_type": "markdown",
   "metadata": {},
   "source": [
    "### 3.13 Homework/Hacks for Part 1 and Part 2 of the lesson\n",
    "\n",
    "#### #1. Create a procedure that is meant to replace the top running backs yards per game in one season if the current running back has more yards per game\n",
    "\n",
    "- Necessary Parameters: toprbyardspg(100), currentrbyards(1260), totalGames(12)   \n",
    "\n",
    "\n",
    "<details closed>\n",
    "    <summary>Click for hint</summary>\n",
    "        Refer back to 3.13 Developing Procedures Part 1\n",
    "    </details>"
   ]
  },
  {
   "cell_type": "code",
   "execution_count": null,
   "metadata": {},
   "outputs": [],
   "source": []
  },
  {
   "cell_type": "markdown",
   "metadata": {},
   "source": [
    "#### #2. Write a procedure that will allow the A+ to get to the 1, while avoiding the black boxes.\n",
    "Use what you learned about moving robots\n",
    "\n",
    "![hw](homework2.png)\n",
    "\n",
    "<details closed>\n",
    "    <summary>Click for hint</summary>\n",
    "        Refer back to 3.13 Developing Procedures Part 1\n",
    "    </details>"
   ]
  },
  {
   "cell_type": "markdown",
   "metadata": {},
   "source": [
    "![BlackBoxes](https://cdn.discordapp.com/attachments/1010052426490982461/1050622154300993586/Screen_Shot_2022-12-08_at_7.57.14_PM.png)"
   ]
  },
  {
   "attachments": {},
   "cell_type": "markdown",
   "metadata": {},
   "source": [
    "**Which Is the Correct Way to define the Name of a Procedure?**\n",
    "- A. PROCEDURE MYLIST\n",
    "- <mark>B. PROCEDURE MyList<mark>\n",
    "- C. procedure mylist\n",
    "<details closed>\n",
    "<summary> Click For Hint</summary>\n",
    "Remember the word procedure should be in all capitals and a part of the declared procedure should be in caps\n",
    "   </details>\n",
    "\n",
    "**Write A Procedure That gets the BeachBall To the Green Square**\n",
    "\n",
    "![zig](zig.png)"
   ]
  },
  {
   "cell_type": "markdown",
   "metadata": {},
   "source": [
    "<script src=\"https://utteranc.es/client.js\"\n",
    "        repo=\"[Tri2GroupFastpages]\"\n",
    "        issue-term=\"pathname\"\n",
    "        theme=\"github-light\"\n",
    "        crossorigin=\"anonymous\"\n",
    "        async>\n",
    "</script>"
   ]
  },
  {
   "cell_type": "markdown",
   "metadata": {},
   "source": [
    "![BeachBall](https://cdn.discordapp.com/attachments/1010052426490982461/1050622053293756496/Screen_Shot_2022-12-08_at_7.56.38_PM.png)"
   ]
  },
  {
   "attachments": {},
   "cell_type": "markdown",
   "metadata": {},
   "source": [
    "# You Have Finished All the hacks Just Add a submisson to the comment in our fastpages under homework!\n",
    "\n",
    "### CHECKLIST!\n",
    "- 3.12 Hacks part 1 (on the lesson of 13.2 Part 1 ) √\n",
    "- 3.12 Hacks part 2 √\n",
    "- 3.1.3 Hacks Part 1 √\n",
    "- 3.13 Hacks part 2 √"
   ]
  }
 ],
 "metadata": {
  "kernelspec": {
   "display_name": "Python 3.9.6 64-bit",
   "language": "python",
   "name": "python3"
  },
  "language_info": {
   "name": "python",
   "version": "3.8.2"
  },
  "orig_nbformat": 4,
  "vscode": {
   "interpreter": {
    "hash": "31f2aee4e71d21fbe5cf8b01ff0e069b9275f58929596ceb00d14d90e3e16cd6"
   }
  }
 },
 "nbformat": 4,
 "nbformat_minor": 2
}

{
 "cells": [
  {
   "attachments": {},
   "cell_type": "markdown",
   "metadata": {},
   "source": [
    "‘‘‘\n",
    "import pandas as pd\n",
    "df = pd.read_json('files/books.json')\n",
    "print(df)\n",
    "‘‘‘"
   ]
  },
  {
   "attachments": {},
   "cell_type": "markdown",
   "metadata": {},
   "source": [
    "‘‘‘\n",
    "       author                    country  \\\n",
    "0             Chinua Achebe                    Nigeria   \n",
    "1   Hans Christian Andersen                    Denmark   \n",
    "2           Dante Alighieri                      Italy   \n",
    "3                   Unknown  Sumer and Akkadian Empire   \n",
    "4                   Unknown          Achaemenid Empire   \n",
    "..                      ...                        ...   \n",
    "95                    Vyasa                      India   \n",
    "96             Walt Whitman              United States   \n",
    "97           Virginia Woolf             United Kingdom   \n",
    "98           Virginia Woolf             United Kingdom   \n",
    "99     Marguerite Yourcenar             France/Belgium   \n",
    "\n",
    "                           imageLink  language  \\\n",
    "0       images/things-fall-apart.jpg   English   \n",
    "1             images/fairy-tales.jpg    Danish   \n",
    "2       images/the-divine-comedy.jpg   Italian   \n",
    "3   images/the-epic-of-gilgamesh.jpg  Akkadian   \n",
    "4         images/the-book-of-job.jpg    Hebrew   \n",
    "..                               ...       ...   \n",
    "95       images/the-mahab-harata.jpg  Sanskrit   \n",
    "96        images/leaves-of-grass.jpg   English   \n",
    "97           images/mrs-dalloway.jpg   English   \n",
    "98      images/to-the-lighthouse.jpg   English   \n",
    "99     images/memoirs-of-hadrian.jpg    French   \n",
    "\n",
    "                                                 link  pages  \\\n",
    "0   https://en.wikipedia.org/wiki/Things_Fall_Apart\\n    209   \n",
    "1   https://en.wikipedia.org/wiki/Fairy_Tales_Told...    784   \n",
    "2       https://en.wikipedia.org/wiki/Divine_Comedy\\n    928   \n",
    "3   https://en.wikipedia.org/wiki/Epic_of_Gilgamesh\\n    160   \n",
    "4         https://en.wikipedia.org/wiki/Book_of_Job\\n    176   \n",
    "..                                                ...    ...   \n",
    "95        https://en.wikipedia.org/wiki/Mahabharata\\n    276   \n",
    "96    https://en.wikipedia.org/wiki/Leaves_of_Grass\\n    152   \n",
    "97       https://en.wikipedia.org/wiki/Mrs_Dalloway\\n    216   \n",
    "98  https://en.wikipedia.org/wiki/To_the_Lighthouse\\n    209   \n",
    "99  https://en.wikipedia.org/wiki/Memoirs_of_Hadri...    408   \n",
    "\n",
    "                    title  year  \n",
    "0       Things Fall Apart  1958  \n",
    "1             Fairy tales  1836  \n",
    "2       The Divine Comedy  1315  \n",
    "3   The Epic Of Gilgamesh -1700  \n",
    "4         The Book Of Job  -600  \n",
    "..                    ...   ...  \n",
    "95            Mahabharata  -700  \n",
    "96        Leaves of Grass  1855  \n",
    "97           Mrs Dalloway  1925  \n",
    "98      To the Lighthouse  1927  \n",
    "99     Memoirs of Hadrian  1951  \n",
    "\n",
    "[100 rows x 8 columns]\n",
    "‘‘‘"
   ]
  }
 ],
 "metadata": {
  "kernelspec": {
   "display_name": "base",
   "language": "python",
   "name": "python3"
  },
  "language_info": {
   "codemirror_mode": {
    "name": "ipython",
    "version": 3
   },
   "file_extension": ".py",
   "mimetype": "text/x-python",
   "name": "python",
   "nbconvert_exporter": "python",
   "pygments_lexer": "ipython3",
   "version": "3.9.12"
  },
  "orig_nbformat": 4
 },
 "nbformat": 4,
 "nbformat_minor": 2
}

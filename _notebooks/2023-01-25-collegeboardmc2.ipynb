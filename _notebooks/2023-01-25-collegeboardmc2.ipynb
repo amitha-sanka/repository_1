{
 "cells": [
  {
   "attachments": {},
   "cell_type": "markdown",
   "metadata": {},
   "source": [
    "# Collegeboard MCQ Test #2 \n",
    "- title: Collegeboard MCQ Test #2 \n",
    "- toc: true"
   ]
  },
  {
   "attachments": {},
   "cell_type": "markdown",
   "metadata": {},
   "source": [
    "# My Score and Results \n",
    "![score](https://cdn.discordapp.com/attachments/1010052426490982461/1068657933065408622/Screen_Shot_2023-01-27_at_2.19.23_PM.png)\n",
    "> I received 44/50: 88%    "
   ]
  },
  {
   "attachments": {},
   "cell_type": "markdown",
   "metadata": {},
   "source": [
    "# Corrections for the Questions I got wrong\n",
    "\n",
    "1. Question 12: \n",
    "\n",
    "![12](https://cdn.discordapp.com/attachments/1010052426490982461/1068657871274909746/Screen_Shot_2023-01-27_at_2.22.15_PM.png)\n",
    "\n",
    "- **My answer:** (onFloor1 AND callTo2) AND (onFloor2 AND callTo1)\n",
    "\n",
    "- **Correct answer:** (onFloor1 AND callTo2) OR (onFloor2 AND callTo1)\n",
    "\n",
    "- **Notes:** \n",
    "\n",
    "The AND Boolean operator refers to all of the conditions, which is incorrect in this situation. Whereas, the OR Boolean operator refers to ensuring one out of the many conditions are true. Therefore, in this situation we would need to use a OR Boolean operator. \n",
    "\n",
    "2. Question 17:\n",
    "\n",
    "![17](https://cdn.discordapp.com/attachments/1010052426490982461/1068750804057587722/Screen_Shot_2023-01-27_at_8.24.58_PM.png)\n",
    "\n",
    "- **My answer:** \n",
    "    - ![17myanswer](https://cdn.discordapp.com/attachments/1010052426490982461/1068749542339653693/Screen_Shot_2023-01-27_at_8.28.56_PM.png)\n",
    "\n",
    "    - ![17correct2](https://cdn.discordapp.com/attachments/1010052426490982461/1068749838969208862/Screen_Shot_2023-01-27_at_8.30.09_PM.png)\n",
    "\n",
    "- **Correct answer:** \n",
    "    - ![17correct](https://cdn.discordapp.com/attachments/1010052426490982461/1068749268774563910/Screen_Shot_2023-01-27_at_8.27.54_PM.png)\n",
    "\n",
    "    - ![17correct2](https://cdn.discordapp.com/attachments/1010052426490982461/1068749838969208862/Screen_Shot_2023-01-27_at_8.30.09_PM.png)\n",
    "\n",
    "- **Notes:** \n",
    "\n",
    "The Boolean variable value 1 and value 2 are using and applying the \"AND\". This question has two corrrect answers. \n",
    "\n",
    "3. Question 26: \n",
    "\n",
    "![26](https://cdn.discordapp.com/attachments/1010052426490982461/1068751366618632222/Screen_Shot_2023-01-27_at_8.36.13_PM.png)\n",
    "\n",
    "- **My answer:** \n",
    "    - ![26ma](https://cdn.discordapp.com/attachments/1010052426490982461/1068751596785242213/Screen_Shot_2023-01-27_at_8.36.54_PM.png)\n",
    "\n",
    "- **Correct answer:** \n",
    "    - ![26ca](https://cdn.discordapp.com/attachments/1010052426490982461/1068751596785242213/Screen_Shot_2023-01-27_at_8.36.54_PM.png)\n",
    "\n",
    "- **Notes:** \n",
    "\n",
    "I missed the part that was talking about the mystery value which is indicated as \"p\" in the picture, so I just used the statements to answer my question. However, the robot is actually moving in different segments that are repeated: move forward, move forward, and rotate right. \n",
    "\n",
    "4. Question 27: \n",
    "\n",
    "![27](https://cdn.discordapp.com/attachments/1010052426490982461/1068755491976658994/Screen_Shot_2023-01-27_at_8.52.39_PM.png)\n",
    "\n",
    "- **My answer:** \n",
    "    - ![27ma](https://cdn.discordapp.com/attachments/1010052426490982461/1068755898836733962/Screen_Shot_2023-01-27_at_8.53.01_PM.png)\n",
    "\n",
    "- **Correct answer:** \n",
    "    - ![27ca](https://cdn.discordapp.com/attachments/1010052426490982461/1068756533753688094/Screen_Shot_2023-01-27_at_8.56.47_PM.png)\n",
    "\n",
    "- **Notes:** \n",
    "After reading this question I just realized the cursor needs to move forward a certain amount of times, then turn, instead of first moving forward and rotating.\n",
    "\n",
    "5. Question 28: \n",
    "\n",
    "![28](https://cdn.discordapp.com/attachments/1010052426490982461/1068757824794021888/Screen_Shot_2023-01-27_at_9.01.55_PM.png)\n",
    "\n",
    "- **My answer:** \n",
    "    - ![28ma](https://cdn.discordapp.com/attachments/1010052426490982461/1068758072568320031/Screen_Shot_2023-01-27_at_9.02.54_PM.png)\n",
    "\n",
    "- **Correct answer:** \n",
    "    - ![28ca1](https://cdn.discordapp.com/attachments/1010052426490982461/1068758072568320031/Screen_Shot_2023-01-27_at_9.02.54_PM.png)\n",
    "    - ![28ca2](https://cdn.discordapp.com/attachments/1010052426490982461/1068757976439074856/Screen_Shot_2023-01-27_at_9.02.32_PM.png)\n",
    "\n",
    "- **Notes:** \n",
    "\n",
    "There are two correct answers for this question, and I got one out of the two correct answers are correct. There is a loop, which repeats four times to move forward, left, forward, and right in order to accomplish its mission. While the other choice has two inner loops in order to move forward, forward, and left to accomplish its mission. \n",
    "\n",
    "6. Question 33: \n",
    "\n",
    "![33](https://cdn.discordapp.com/attachments/1010052426490982461/1068759258063175680/Screen_Shot_2023-01-27_at_9.07.36_PM.png)\n",
    "\n",
    "- **My answer:** Neither algorithm will correctly identify the maximum value when the input contains both positive and negative input values.\n",
    "- **Correct answer:** Algorithm II always works correctly, but Algorithm I only works correctly when the maximum value is greater than or equal to − 1.\n",
    "\n",
    "- **Notes:** \n",
    "\n",
    "I did not understand this question because I could not remember what a algorithm was. An algorithm is a process or set of rules to be followed in calculations or other problem solving operations, especially by a computer. Using this information, algorithm 2 will return the maximum value. "
   ]
  },
  {
   "attachments": {},
   "cell_type": "markdown",
   "metadata": {},
   "source": [
    "# How I understood and learned from the questions I got wrong? \n",
    "\n",
    "In order to understand and learn from the questions I got wrong, I found exercises and videos on Khan Academy. I spent time watching the Khan Academy videos and afterwards I took the quizzes: \n",
    "\n",
    "## Algorithms\n",
    "\n",
    "![kaquiz1](https://cdn.discordapp.com/attachments/1010052426490982461/1068808809268654100/Screen_Shot_2023-01-28_at_12.19.21_AM.png)\n",
    "\n",
    "## Iterations, Lists, & Loops\n",
    "\n",
    "![kaquiz2](https://cdn.discordapp.com/attachments/1010052426490982461/1068808809566441552/Screen_Shot_2023-01-28_at_12.24.08_AM.png)\n",
    "\n",
    "## Booleans \n",
    "\n",
    "![kaquiz3](https://cdn.discordapp.com/attachments/1010052426490982461/1068808809809719316/Screen_Shot_2023-01-28_at_12.07.52_AM.png)"
   ]
  },
  {
   "attachments": {},
   "cell_type": "markdown",
   "metadata": {},
   "source": [
    "# Reflection \n",
    "\n",
    "Overall, I think I performed pretty well on this MCQ. The majority of the questions I got wrong were because I did not read the question fully or did not understand a vocabulary term used in the question. Therefore, I will be practicing and gain a deeper understanding of the vocabulary terms. I will try doing this by using Quizlet, Khan Academy practice, and watching videos on YouTube. Ultimately, I believe I am solid and fully understand the majority of the concepts we have learned thus far in APCSP. "
   ]
  }
 ],
 "metadata": {
  "kernelspec": {
   "display_name": "base",
   "language": "python",
   "name": "python3"
  },
  "language_info": {
   "name": "python",
   "version": "3.9.12 (main, Apr  5 2022, 01:53:17) \n[Clang 12.0.0 ]"
  },
  "orig_nbformat": 4,
  "vscode": {
   "interpreter": {
    "hash": "6a7ffd337263e842f3b464f5c9a18b5093416ef367acb95f7729f0a713abdb5e"
   }
  }
 },
 "nbformat": 4,
 "nbformat_minor": 2
}

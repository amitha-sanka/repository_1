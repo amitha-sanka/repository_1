{
 "cells": [
  {
   "attachments": {},
   "cell_type": "markdown",
   "metadata": {},
   "source": [
    "# Collegeboard MCQ Test #2 \n",
    "- title: Collegeboard MCQ Test #2 \n",
    "- toc: true"
   ]
  },
  {
   "attachments": {},
   "cell_type": "markdown",
   "metadata": {},
   "source": [
    "\n",
    "1. Question: _______________\n",
    "\n",
    "- **My answer:** ___________\n",
    "- **Correct answer:** ___________\n",
    "- **Notes:** I misread this question, but working with people that come from different backgrounds helps the team and makes it more convenient for them that it can easily be tested. \n"
   ]
  }
 ],
 "metadata": {
  "kernelspec": {
   "display_name": "base",
   "language": "python",
   "name": "python3"
  },
  "language_info": {
   "name": "python",
   "version": "3.9.12 (main, Apr  5 2022, 01:53:17) \n[Clang 12.0.0 ]"
  },
  "orig_nbformat": 4,
  "vscode": {
   "interpreter": {
    "hash": "6a7ffd337263e842f3b464f5c9a18b5093416ef367acb95f7729f0a713abdb5e"
   }
  }
 },
 "nbformat": 4,
 "nbformat_minor": 2
}

{
 "cells": [
  {
   "cell_type": "code",
   "execution_count": 1,
   "metadata": {},
   "outputs": [],
   "source": [
    "# Amitha's First Jupyter Notebook"
   ]
  },
  {
   "cell_type": "code",
   "execution_count": 6,
   "metadata": {},
   "outputs": [
    {
     "name": "stdout",
     "output_type": "stream",
     "text": [
      "Welcome to Amitha's Quiz!\n",
      "Great! Good luck 😊\n",
      "This game will have 5 questions!\n",
      "Question 1: What structures programs so that properties and behaviors are bundled into individual objects?\n",
      "Good job! The answer is OOP!\n",
      "Your score is 1\n",
      "Question 2: What are code lines that will not be executed?\n",
      "Good job! The answer is comments!\n",
      "Your score is 2\n",
      "Question 3: what is an integer in python?\n",
      "Good job! The answer is int!\n",
      "Your score is 3\n",
      "Question 4: What is a statement with a hypothesis followed by a conclusion called?\n",
      "Good job! The answer is Object Oriented Programming!\n",
      "Your score is 4\n",
      "Question 5: Translates a program written in a high-level language into a low-level language?\n",
      "Good job! The answer is if-then statement!\n",
      "Your score is 5\n",
      "Wow! You know your stuff! Keep up the good work! 🤗\n",
      "You're average :/\n"
     ]
    }
   ],
   "source": [
    "print(\"Welcome to Amitha's Quiz!\")\n",
    "\n",
    "start = input(\"Do you want to take Amitha's Quiz?\")\n",
    "score = 0\n",
    "\n",
    "def ask_for_answer():\n",
    "    answer = input()\n",
    "    return answer\n",
    "\n",
    "def is_answer_right(user_answer, answer):\n",
    "    global score\n",
    "    if user_answer == answer:\n",
    "        score += 1\n",
    "        print(f\"Good job! The answer is {answer}!\")\n",
    "    else:\n",
    "        print(f\"Sorry, incorrect 😢. The right answer was {answer}.\")\n",
    "    print(f\"Your score is {score}\")\n",
    "\n",
    "\n",
    "if start.lower() == \"yes\" or start.lower() == \"y\":\n",
    "    print(\"Great! Good luck 😊\")\n",
    "else:\n",
    "    print(\"Take a mindful minute. You got this :)\")\n",
    "\n",
    "\n",
    "print(\"This game will have 5 questions!\")\n",
    "\n",
    "#Question 1\n",
    "print(\"Question 1: What structures programs so that properties and behaviors are bundled into individual objects?\")\n",
    "user_answer = ask_for_answer()\n",
    "is_answer_right(user_answer, \"OOP\")\n",
    "\n",
    "#Question 2\n",
    "print(\"Question 2: What are code lines that will not be executed?\")\n",
    "user_answer = ask_for_answer()\n",
    "is_answer_right(user_answer, \"comments\")\n",
    "\n",
    "#Question 3\n",
    "print(\"Question 3: what is an integer in python?\")\n",
    "user_answer = ask_for_answer()\n",
    "is_answer_right(user_answer, \"int\")\n",
    "\n",
    "#Question 4\n",
    "print(\"Question 4: What is a statement with a hypothesis followed by a conclusion called?\")\n",
    "user_answer = ask_for_answer()\n",
    "is_answer_right(user_answer, \"Object Oriented Programming\")\n",
    "\n",
    "#Question 5\n",
    "print(\"Question 5: Translates a program written in a high-level language into a low-level language?\")\n",
    "user_answer = ask_for_answer()\n",
    "is_answer_right(user_answer, \"if-then statement\")\n",
    "\n",
    "\n",
    "if score == 5:\n",
    "    print(\"Wow! You know your stuff! Keep up the good work! 🤗\")\n",
    "if score = 1:\n",
    "    print(\"Keep studying :)\")\n",
    "else:\n",
    "    print(\"You're average :/\")\n",
    "# white_check_mark\n",
    "# eyes\n",
    "# raised_hands\n",
    "\n",
    "\n",
    "\n",
    "\n",
    "\n"
   ]
  }
 ],
 "metadata": {
  "kernelspec": {
   "display_name": "Python 3.9.12 ('base')",
   "language": "python",
   "name": "python3"
  },
  "language_info": {
   "codemirror_mode": {
    "name": "ipython",
    "version": 3
   },
   "file_extension": ".py",
   "mimetype": "text/x-python",
   "name": "python",
   "nbconvert_exporter": "python",
   "pygments_lexer": "ipython3",
   "version": "3.9.12"
  },
  "orig_nbformat": 4,
  "vscode": {
   "interpreter": {
    "hash": "6a7ffd337263e842f3b464f5c9a18b5093416ef367acb95f7729f0a713abdb5e"
   }
  }
 },
 "nbformat": 4,
 "nbformat_minor": 2
}

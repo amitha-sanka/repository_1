{
 "cells": [
  {
   "cell_type": "markdown",
   "metadata": {},
   "source": [
    "# Sections 3.5, 3.6, 3.7\n",
    "> Hacks\n",
    "\n",
    "- toc: true\n",
    "- badges: true\n",
    "- comments: true\n",
    "- categories: [csp]"
   ]
  },
  {
   "cell_type": "markdown",
   "metadata": {},
   "source": [
    "## Notes \n",
    "\n",
    "Ben, Nico, Luke, Arnav\n",
    "\n",
    "- Boolean binary variable with only two possible values, \"true\" or \"false\"\n",
    "- Relational operators are =, >, <, ≠, ≥, and ≤\n",
    "- Python uses != instead of ≠\n",
    "- Algorithm: A finite set of instructions that accomplish a specific task\n",
    "- if statement:  go through certain statements if the if expression is true\n",
    "- if-else statement:  go through a statement no matter what, but the statement which is run depends on the if expression is true or false\n",
    "- use flowcharts to help organize the process of conditional statements\n",
    "- Nested conditional: A conditional inside of a conditional\n",
    "- used in algorithms in order to print specific data or run certain tasks\n",
    "- use conditionals inside conditionals to create further conditions in algorithms\n",
    "- flowcharts help display an diagram of what we want a code segment to do"
   ]
  },
  {
   "cell_type": "markdown",
   "metadata": {},
   "source": [
    "For hacks, <mark>make a copy of this notebook and answer the questions or complete the code</mark>, as described in comments. Additionally, <mark>blog about any missed questions</mark>, or what you learned from this lesson."
   ]
  },
  {
   "cell_type": "markdown",
   "metadata": {},
   "source": [
    "# 3.5 Hacks\n",
    "\n",
    "## Binary Practice\n",
    "Using psuedocode operators determine if the statements are true or false. The number type will be indicated in parentheses.\n",
    "\n",
    "**√ = answer** \n",
    "\n",
    "**1. 90(Decimal) = 1000(Binary)**\n",
    "\n",
    "- A. True \n",
    "- B. False √\n",
    "\n",
    "**2. 10(D) ≠ 0110(B)**\n",
    "\n",
    "- A. True √\n",
    "- B. False \n",
    "\n",
    "**3. 56(D) ≥ 111000(B)**\n",
    "\n",
    "- A. True √\n",
    "- B. False \n",
    "\n",
    "**4. 99(D) < 1110011(B)**\n",
    "\n",
    "- A. True √\n",
    "- B. False"
   ]
  },
  {
   "cell_type": "markdown",
   "metadata": {},
   "source": [
    "Now, complete the binary truth tables"
   ]
  },
  {
   "cell_type": "markdown",
   "metadata": {},
   "source": [
    "<html>\n",
    "<style>\n",
    "    table, th, td { \n",
    "        border:2px solid white;\n",
    "    }\n",
    "</style>\n",
    "    <div>AND Operator</div>\n",
    "    <div>\n",
    "        <table>\n",
    "            <tr>\n",
    "                <th>Value 1</th>\n",
    "                <th>Value 2</th>\n",
    "                <th>Result</th>\n",
    "            </tr>\n",
    "            <tr>\n",
    "                <td>1</td>\n",
    "                <td>1</td>\n",
    "                <td>1</td>\n",
    "            </tr>\n",
    "            <tr>\n",
    "                <td>1</td>\n",
    "                <td>0</td>\n",
    "                <td>0</td>\n",
    "            </tr>\n",
    "            <tr>\n",
    "                <td>0</td>\n",
    "                <td>1</td>\n",
    "                <td>0</td>\n",
    "            </tr>\n",
    "            <tr>\n",
    "                <td>0</td>\n",
    "                <td>0</td>\n",
    "                <td>0</td>\n",
    "            </tr>\n",
    "        </table>\n",
    "    </div>\n",
    "    <div>OR Operator</div>\n",
    "    <div>\n",
    "        <table>\n",
    "            <tr>\n",
    "                <th>Value 1</th>\n",
    "                <th>Value 2</th>\n",
    "                <th>Result</th>\n",
    "            </tr>\n",
    "            <tr>\n",
    "                <td>1</td>\n",
    "                <td>1</td>\n",
    "                <td>1</td>\n",
    "            </tr>\n",
    "            <tr>\n",
    "                <td>0</td>\n",
    "                <td>0</td>\n",
    "                <td>1</td>\n",
    "            </tr>\n",
    "            <tr>\n",
    "                <td>0</td>\n",
    "                <td>1</td>\n",
    "                <td>1</td>\n",
    "            </tr>\n",
    "            <tr>\n",
    "                <td>0</td>\n",
    "                <td>0</td>\n",
    "                <td>0</td>\n",
    "            </tr>\n",
    "        </table>\n",
    "    </div>\n",
    "    <div>Not operator</div>\n",
    "    <div>\n",
    "        <table>\n",
    "            <tr>\n",
    "                <th>Not</th>\n",
    "                <th>Value</th>\n",
    "                <th>Result</th>\n",
    "            </tr>\n",
    "            <tr>\n",
    "                <td>Not</td>\n",
    "                <td>1</td>\n",
    "                <td>0</td>\n",
    "            </tr>\n",
    "            <tr>\n",
    "                <td>Not</td>\n",
    "                <td>0</td>\n",
    "                <td>0</td>\n",
    "            </tr>\n",
    "        </table>\n",
    "    </div>\n",
    "</html>"
   ]
  },
  {
   "cell_type": "markdown",
   "metadata": {},
   "source": [
    "## Python Practice"
   ]
  },
  {
   "cell_type": "code",
   "execution_count": 7,
   "metadata": {},
   "outputs": [
    {
     "name": "stdout",
     "output_type": "stream",
     "text": [
      "False\n",
      "True\n",
      "True\n"
     ]
    }
   ],
   "source": [
    "# Practice with these statements\n",
    "\n",
    "print(20 == 30) # How can you change the operator to print a value of False? \n",
    "# Answer: by changing it to the equal sign because 20 does not equal 30, so it would return as false\n",
    "\n",
    "x = 30\n",
    "y = 20\n",
    "z = 10\n",
    "print(x >= y + z) # How can this return true by only manipulating the operator?\n",
    "# changing to a greater than or equal to sign so 30 = 30 \n",
    "\n",
    "# Manipulate the variables x, y, and z to make the below statement return true\n",
    "# added y to z, so 30 == 30 \n",
    "print(x == z + y)"
   ]
  },
  {
   "cell_type": "markdown",
   "metadata": {},
   "source": [
    "# 3.6 Hacks\n",
    "\n",
    "## AP Prep\n",
    "\n",
    "**1. What is displayed by this code?**\n",
    "- result <-- 75\n",
    "- IF result < 80 {\n",
    "    DISPLAY(\"Please schedule a retake.\")\n",
    "}\n",
    "- ELSE {\n",
    "    DISPLAY(\"Nice job!\")\n",
    "}\n",
    "\n",
    "1. Nice job! \n",
    "2. Display\n",
    "3. Please schedule a retake. √\n",
    "4. 75\n",
    "\n",
    "**2. How is an if statement different from an if-else statement.**\n",
    "\n",
    "1. Extra words.\n",
    "2. An if statement will only go through a process if a condition is met. An if-else statement will go through code no matter the conditions. √\n",
    "3. They are the exact same.\n",
    "4. An if statement will go through the entire code segment every single time and the if-else statement is always used in an algorithm, no matter the conditions.\n",
    "\n",
    "**3. What would be most appropriate for this situation? Ben wants to check his bank account. If his car fuel is full, he will go to the bank. Otherwise, he will go home. If he goes to the bank, he will withdraw money only if his balance is above $1000.**\n",
    "\n",
    "1. If statement\n",
    "2. If-else statement √\n",
    "\n",
    "**4. What would be most appropriate for this situation? Luke wants to play basketball. If it is sunny outside he will go to the park to play basketball.**\n",
    "\n",
    "1. If statement √\n",
    "2. If-else statement\n",
    "\n",
    "## Using Python"
   ]
  },
  {
   "cell_type": "code",
   "execution_count": 2,
   "metadata": {},
   "outputs": [
    {
     "name": "stdout",
     "output_type": "stream",
     "text": [
      "lion\n",
      "camel\n",
      "tiger\n",
      "wildebeest\n",
      "Fun Fact: The smallest shark is the dwarf lantern shark, and it is small enough to hold in your hand!\n",
      "jellyfish\n",
      "blobfish\n",
      "raven\n",
      "If an animal lives in the desert, the animal will see spiders and snakes! \n"
     ]
    }
   ],
   "source": [
    "animals = [\"lion\", \"camel\", \"tiger\", \"wildebeest\", \"shark\", \"jellyfish\", \"blobfish\", \"raven\"]\n",
    "\n",
    "for i in animals:\n",
    "    if i == \"shark\": # What boolean value does this statement cause?\n",
    "        print(\"Fun Fact: The smallest shark is the dwarf lantern shark, and it is small enough to hold in your hand!\")\n",
    "    else:\n",
    "        print(i)\n",
    "for a in animals: \n",
    "    if a == \"camel\": \n",
    "        print(\"If an animal lives in the desert, the animal will see spiders and snakes! \")\n",
    "# Practice\n",
    "# Using only one more if statement, alter the code to print out a statement saying if an animal lives in the desert, based on booleans"
   ]
  },
  {
   "cell_type": "markdown",
   "metadata": {},
   "source": [
    "# 3.7 Hacks\n",
    "\n",
    "## Exercise 1\n",
    "- Create dictionaries for multiple food items, with the listed specifications\n",
    "    - Chicken Alfredo, Meat: Chicken, Time to Prepare: 60 minutes\n",
    "    - Cheese Quesadilla, Meat: None, Time to Prepare: 10 minutes\n",
    "    - Beef Wellington, Meat: Beef, Time to Prepare: 150 minutes\n",
    "- Used nested conditionals, determine which meal you can cook, given that a) you have no meat at home, and b) you only have 30 minutes to make the meal"
   ]
  },
  {
   "cell_type": "code",
   "execution_count": 6,
   "metadata": {},
   "outputs": [
    {
     "name": "stdout",
     "output_type": "stream",
     "text": [
      "{'meat': 'chicken', 'time to prepare': '60 minutes'}\n",
      "<class 'dict'>\n",
      "{'meat': 'none', 'time to prepare': '10 minutes'}\n",
      "<class 'dict'>\n",
      "{'meat': 'beef', 'time to prepare': '150 minutes'}\n",
      "<class 'dict'>\n"
     ]
    }
   ],
   "source": [
    "# Write code here\n",
    "\n",
    "chicken_alfredo = {'meat': 'chicken' , 'time to prepare': '60 minutes'}\n",
    "print (chicken_alfredo)\n",
    "\n",
    "print(type(chicken_alfredo))\n",
    "\n",
    "\n",
    "cheese_quesadilla = {'meat': 'none' , 'time to prepare': '10 minutes'}\n",
    "print (cheese_quesadilla)\n",
    "\n",
    "print(type(cheese_quesadilla))\n",
    "\n",
    "\n",
    "\n",
    "beef_wellington = {'meat': 'beef' , 'time to prepare': '150 minutes'}\n",
    "print (beef_wellington)\n",
    "\n",
    "print(type(beef_wellington))\n",
    "\n",
    "D = {'chicken_alfredo': {'meat': 'chicken' , 'time to prepare': '60 minutes'}, \n",
    "     'cheese_quesadilla': {'meat': 'none' , 'time to prepare': '10 minutes'},\n",
    "     'beef_wellington': {'meat': 'beef' , 'time to prepare': '150 minutes'}}\n",
    "D['chicken_alfredo'] = {'meat': 'no meat at home', 'time to prepare': '30 minutes'}\n",
    "\n",
    "print(D)"
   ]
  },
  {
   "cell_type": "markdown",
   "metadata": {},
   "source": [
    "## Exercise 2\n",
    "\n",
    "! [MyFlowchart](https://cdn.discordapp.com/attachments/1010052426490982461/1049164542908842034/Screen_Shot_2022-12-04_at_7.24.01_PM.png)\n",
    "\n",
    "Make a flowchart([here](https://www.lucidchart.com/pages/examples/flowchart-maker) is one we used) and write pseudocode for the following scenario.\n",
    "- Mr. Yeung would like to grade live reviews. \n",
    "- He wants to see if each student has at least 2 issues on their project. If they don't they receive a score of 2.0.\n",
    "- If they have at least 2 issues, check that they have completed at least 5 of their scrumboard tasks.\n",
    "- If they have completed 5 scrumboard tasks, give the student a 2.7. If they have not completed 5 scrumboard tasks, give them a score of 2.5. If they have completed more than 5 tasks, give them a score of 3.0.\n",
    "- How much would a student with 3 issues and 1 complete scrumboard task receive?\n",
    "\n",
    "A student with 3 issues and 1 complete scrumboard task would receive a score of 2.0 because they do not have atleast more than 5 scrumboard tasks. "
   ]
  },
  {
   "cell_type": "markdown",
   "metadata": {},
   "source": [
    "# Reflection: \n",
    "\n",
    "After this lesson, I learned how to create and write a flowchart in pseudocode while given a scenario. I also learned how to use a dictionary and use nested conditionals. I learned how to use if and if-else statements, and the difference between the two. An if statement is when you go through certain statements if the if expression is true. Whereas, if-else statement are when you go through a statement no matter what, but the statement which is run depends on the if expression is true or false. I learned how to read and interpret different types of operators, AND, OR, and not through the binary truth practice. The binary truth practice was difficult initially, however, I understood it after my group explained it to me. I followed a tutorial to use nested conditionals in my Python dictionary, which was helpful since I was new to using and coding nested conditionals. "
   ]
  }
 ],
 "metadata": {
  "kernelspec": {
   "display_name": "Python 3.9.12 ('base')",
   "language": "python",
   "name": "python3"
  },
  "language_info": {
   "codemirror_mode": {
    "name": "ipython",
    "version": 3
   },
   "file_extension": ".py",
   "mimetype": "text/x-python",
   "name": "python",
   "nbconvert_exporter": "python",
   "pygments_lexer": "ipython3",
   "version": "3.9.12"
  },
  "orig_nbformat": 4,
  "vscode": {
   "interpreter": {
    "hash": "6a7ffd337263e842f3b464f5c9a18b5093416ef367acb95f7729f0a713abdb5e"
   }
  }
 },
 "nbformat": 4,
 "nbformat_minor": 2
}

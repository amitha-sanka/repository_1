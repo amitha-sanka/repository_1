{
 "cells": [
  {
   "attachments": {},
   "cell_type": "markdown",
   "metadata": {},
   "source": [
    "#  Unit 2.4b Using Programs with Data, SQL\n",
    "> Using Programs with Data is focused on SQL and database actions.  Part B focuses on learning SQL commands, connections, and curses using an Imperative programming style,\n",
    "- toc: true\n",
    "- image: /images/python.png\n",
    "- categories: []\n",
    "- type: ap\n",
    "- week: 26"
   ]
  },
  {
   "attachments": {},
   "cell_type": "markdown",
   "metadata": {},
   "source": [
    "# Database Programming is Program with Data\n",
    "> Each Tri 2 Final Project should be an example of a Program with Data. \n",
    "\n",
    ">  Prepare to use SQLite in common Imperative Technique\n",
    "- Explore [SQLite Connect object](https://www.tutorialspoint.com/python_data_access/python_sqlite_establishing_connection.htm) to establish database connection\n",
    "- Explore [SQLite Cursor Object](https://www.tutorialspoint.com/python_data_access/python_sqlite_cursor_object.htm) to fetch data from a table within a database\n"
   ]
  },
  {
   "attachments": {},
   "cell_type": "markdown",
   "metadata": {},
   "source": [
    "## Schema of Users table in Sqlite.db\n",
    "> Uses PRAGMA statement to read schema.\n",
    "\n",
    "Describe Schema, here is resource [Resource](https://www.sqlite.org/index.html)\n",
    "- What is a database schema?\n",
    "\n",
    "It is like a category. \n",
    "\n",
    "- What is the purpose of identity Column in SQL database?\n",
    "\n",
    "The purpose of identity Column in SQL database is to organize the information and data. \n",
    "\n",
    "- What is the purpose of a primary key in SQL database?\n",
    "\n",
    "Primary piece should be unique, such as an ID number. \n",
    "\n",
    "- What are the Data Types in SQL table?\n",
    "\n",
    "Integer, string, images, text, lists, dictionary, class, and boolean. "
   ]
  },
  {
   "cell_type": "code",
   "execution_count": 3,
   "metadata": {},
   "outputs": [
    {
     "name": "stdout",
     "output_type": "stream",
     "text": [
      "(0, 'id', 'INTEGER', 1, None, 1)\n",
      "(1, '_name', 'VARCHAR(255)', 1, None, 0)\n",
      "(2, '_uid', 'VARCHAR(255)', 1, None, 0)\n",
      "(3, '_password', 'VARCHAR(255)', 1, None, 0)\n",
      "(4, '_dob', 'DATE', 0, None, 0)\n"
     ]
    }
   ],
   "source": [
    "import sqlite3\n",
    "\n",
    "database = 'instance/sqlite.db' # this is location of database\n",
    "\n",
    "def schema():\n",
    "    \n",
    "    # Connect to the database file\n",
    "    conn = sqlite3.connect(database)\n",
    "\n",
    "    # Create a cursor object to execute SQL queries\n",
    "    cursor = conn.cursor()\n",
    "    \n",
    "    # Fetch results of Schema\n",
    "    results = cursor.execute(\"PRAGMA table_info('users')\").fetchall()\n",
    "\n",
    "    # Print the results\n",
    "    for row in results:\n",
    "        print(row)\n",
    "\n",
    "    # Close the database connection\n",
    "    conn.close()\n",
    "    \n",
    "schema()\n"
   ]
  },
  {
   "attachments": {},
   "cell_type": "markdown",
   "metadata": {},
   "source": [
    "## Reading Users table in Sqlite.db\n",
    "> Uses SQL SELECT statement to read data\n",
    "\n",
    "- What is a connection object?  After you google it, what do you think it does?\n",
    "\n",
    "A connection object is an object that connects two objects together. Ater Googleing it, connection object is an instance of a connection class that represents a connection between a program and a database. It contains information about the database, such as the server address, database name, authentication details, and other parameters needed to establish a connection.\n",
    "\n",
    "- Same for cursor object?\n",
    "\n",
    "A cursor object is an instance of a cursor class that allows a program to interact with the database by executing SQL commands and retrieving results. It maintains the current position in the result set and provides methods to navigate and modify the data.\n",
    "\n",
    "- Look at conn object and cursor object in VSCode debugger.  What attributes are in the object?\n",
    "\n",
    "The cursor object may have attributes such as the SQL statement being executed, the result set, the number of rows affected, and the position in the result set. Conn objects include the database driver, connection parameters, status, and transaction state. \n",
    "\n",
    "- Is \"results\" an object?  How do you know?\n",
    "\n",
    "\"Results\" is a variable that holds data returned from a database query, it could be an object if the data is returned, which is known in the form of a collection or a custom class instance."
   ]
  },
  {
   "cell_type": "code",
   "execution_count": 12,
   "metadata": {},
   "outputs": [],
   "source": [
    "import sqlite3\n",
    "\n",
    "def read():\n",
    "    # Connect to the database file\n",
    "    conn = sqlite3.connect(database)\n",
    "\n",
    "    # Create a cursor object to execute SQL queries\n",
    "    cursor = conn.cursor()\n",
    "    \n",
    "    # Execute a SELECT statement to retrieve data from a table\n",
    "    results = cursor.execute('SELECT * FROM users').fetchall()\n",
    "\n",
    "    # Print the results\n",
    "    if len(results) == 0:\n",
    "        print(\"Table is empty\")\n",
    "    else:\n",
    "        for row in results:\n",
    "            print(row)\n",
    "\n",
    "    # Close the cursor and connection objects\n",
    "    cursor.close()\n",
    "    conn.close()\n",
    "    \n",
    "read()"
   ]
  },
  {
   "attachments": {},
   "cell_type": "markdown",
   "metadata": {},
   "source": [
    "## Create a new User in table in Sqlite.db\n",
    "> Uses SQL INSERT to add row\n",
    "\n",
    "-  Compore create() in both SQL lessons.  What is better or worse in the two implementations?\n",
    "\n",
    "Object oriented programming is different and is organized. It is bigger too. However imperative might be better when doing a small action. \n",
    "\n",
    "-  Explain purpose of SQL INSERT.   Is this the same as User __init__?\n",
    "\n",
    "The purpse of SQL INSERT is to add new rows of data inot a database. No, it is not the same as User __init__ because it initializes the class's attributes. "
   ]
  },
  {
   "cell_type": "code",
   "execution_count": 5,
   "metadata": {},
   "outputs": [
    {
     "name": "stdout",
     "output_type": "stream",
     "text": [
      "A new user record amitha31 has been created\n"
     ]
    }
   ],
   "source": [
    "import sqlite3\n",
    "\n",
    "def create():\n",
    "    name = input(\"Enter your name:\")\n",
    "    uid = input(\"Enter your UID:\")\n",
    "    password = input(\"Enter your password\")\n",
    "    dob = input(\"Enter your DOB 'YYYY-MM-DD'\")\n",
    "    \n",
    "    # Connect to the database file\n",
    "    conn = sqlite3.connect(database)\n",
    "\n",
    "    # Create a cursor object to execute SQL commands\n",
    "    cursor = conn.cursor()\n",
    "\n",
    "    try:\n",
    "        # Execute an SQL command to insert data into a table\n",
    "        cursor.execute(\"INSERT INTO users (_name, _uid, _password, _dob) VALUES (?, ?, ?, ?)\", (name, uid, password, dob))\n",
    "        \n",
    "        # Commit the changes to the database\n",
    "        conn.commit()\n",
    "        print(f\"A new user record {uid} has been created\")\n",
    "                \n",
    "    except sqlite3.Error as error:\n",
    "        print(\"Error while executing the INSERT:\", error)\n",
    "\n",
    "\n",
    "    # Close the cursor and connection objects\n",
    "    cursor.close()\n",
    "    conn.close()\n",
    "    \n",
    "create()"
   ]
  },
  {
   "attachments": {},
   "cell_type": "markdown",
   "metadata": {},
   "source": [
    "## Updating a User in table in Sqlite.db\n",
    "\n",
    "> Uses SQL UPDATE to modify password\n",
    "\n",
    "- What does the hacked part do?\n",
    "\n",
    "The hacked part tells users that they have been hacked due to their weak password that consists of two characters. Ultimately, it simply communicates to the user they have been hacked and suggests to change the password and to make their password stronger by adding special characters and create a password that ranges 8 to 20 characters. \n",
    "\n",
    "- Explain try/except, when would except occur?\n",
    "\n",
    "A try/except block is used in Python to catch and handle errors or exceptions that occur during the execution of a program. The code inside the try block is executed normally, and if an exception is raised, the code inside the corresponding except block is executed to handle the exception. It happens due to syntax errors, a type error, or a runtime errors. The except block will occur when an exception is raised during the execution of the try block. \n",
    "\n",
    "- What code seems to be repeated in each of these examples to point, why is it repeated?\n",
    "\n",
    "Code that seems to be repeated in each of these examples is the conn in and conn out. It is repeated because it is the function that creates a connection to the SQLite table and returns a SQLite connection object. In other words, it is the function that connects the SQLite table and the user ID, names, passwords, and dates of birth. "
   ]
  },
  {
   "cell_type": "code",
   "execution_count": 7,
   "metadata": {},
   "outputs": [
    {
     "name": "stdout",
     "output_type": "stream",
     "text": [
      "The row with user id amitha31 the password has been successfully updated\n"
     ]
    }
   ],
   "source": [
    "import sqlite3\n",
    "\n",
    "def update():\n",
    "    uid = input(\"Enter UID to update\")\n",
    "    password = input(\"Enter updated password\")\n",
    "    if len(password) < 2:\n",
    "        message = \"Hacked\"\n",
    "        password = 'gothackednewpassword123'\n",
    "    else:\n",
    "        message = \"successfully updated\"\n",
    "\n",
    "    # Connect to the database file\n",
    "    conn = sqlite3.connect(database)\n",
    "\n",
    "    # Create a cursor object to execute SQL commands\n",
    "    cursor = conn.cursor()\n",
    "\n",
    "    try:\n",
    "        # Execute an SQL command to update data in a table\n",
    "        cursor.execute(\"UPDATE users SET _password = ? WHERE _uid = ?\", (password, uid))\n",
    "        if cursor.rowcount == 0:\n",
    "            # The uid was not found in the table\n",
    "            print(f\"No uid {uid} was not found in the table\")\n",
    "        else:\n",
    "            print(f\"The row with user id {uid} the password has been {message}\")\n",
    "            conn.commit()\n",
    "    except sqlite3.Error as error:\n",
    "        print(\"Error while getting the UPDATE:\", error)\n",
    "        \n",
    "    \n",
    "    # Close the cursor and connection objects\n",
    "    cursor.close()\n",
    "    conn.close()\n",
    "    \n",
    "update()"
   ]
  },
  {
   "attachments": {},
   "cell_type": "markdown",
   "metadata": {},
   "source": [
    "## Delete a User in table in Sqlite.db\n",
    "> Uses a delete function to remove a user based on a user input of the id.\n",
    "- Is DELETE a dangerous operation?  Why?\n",
    "\n",
    "I think the DELETE function is a dangerous operation certain times, however, not all times because in some coding situations it is neccesary. For this instance, since we are working with users and adding, updating, and deleting users, the DELETE function is neccesary. Therefore, the DELETE function is neccessary at some times, but not needed and dangerous at some times. \n",
    "\n",
    "- In the print statemements, what is the \"f\" and what does {uid} do?\n",
    "\n",
    "In the print statements, the \"f\" refers to the order and to print the user ID number first. The {uid} function refers to the user ID number being printed. It tells the code to print the user ID number along with the corresponding message the code prints with the uid code and \"f\" function. "
   ]
  },
  {
   "cell_type": "code",
   "execution_count": 11,
   "metadata": {},
   "outputs": [
    {
     "name": "stdout",
     "output_type": "stream",
     "text": [
      "No uid amitha31 was not found in the table\n"
     ]
    }
   ],
   "source": [
    "import sqlite3\n",
    "\n",
    "def delete():\n",
    "    uid = input(\"Enter user id to delete\")\n",
    "\n",
    "    # Connect to the database file\n",
    "    conn = sqlite3.connect(database)\n",
    "\n",
    "    # Create a cursor object to execute SQL commands\n",
    "    cursor = conn.cursor()\n",
    "    \n",
    "    try:\n",
    "        cursor.execute(\"DELETE FROM users WHERE _uid = ?\", (uid,))\n",
    "        if cursor.rowcount == 0:\n",
    "            # The uid was not found in the table\n",
    "            print(f\"No uid {uid} was not found in the table\")\n",
    "        else:\n",
    "            # The uid was found in the table and the row was deleted\n",
    "            print(f\"The row with uid {uid} was successfully deleted\")\n",
    "        conn.commit()\n",
    "    except sqlite3.Error as error:\n",
    "        print(\"Error while executing the DELETE:\", error)\n",
    "        \n",
    "    # Close the cursor and connection objects\n",
    "    cursor.close()\n",
    "    conn.close()\n",
    "    \n",
    "delete()"
   ]
  },
  {
   "attachments": {},
   "cell_type": "markdown",
   "metadata": {},
   "source": [
    "# Menu Interface to CRUD operations\n",
    "> CRUD and Schema interactions from one location by running menu. Observe input at the top of VSCode, observe output underneath code cell.\n",
    "\n",
    "- Why does the menu repeat?\n",
    "\n",
    "The menu repeats specific functions that are needed no matter what for the Python code to function and work properly. The menu repeats the import sqlite3 function in order to import the sqlite3 functions and table with users. Another function that is repeated in the menu continuously is the def function, the def function is repeated each code cell and is followed by a different function depending on the purpose of the code cell. \n",
    "\n",
    "- Could you refactor this menu?  Make it work with a List?\n",
    "\n",
    "Yes, one can refactor this menu and additionally can make it work with a List because this code is built that way. The way the code is written helps and allows one to refactor because of the functions used in the code cell. "
   ]
  },
  {
   "cell_type": "code",
   "execution_count": 27,
   "metadata": {},
   "outputs": [
    {
     "name": "stdout",
     "output_type": "stream",
     "text": [
      "A new user record 11111 has been created\n"
     ]
    }
   ],
   "source": [
    "# Menu, to run other cells from one control point\n",
    "def menu():\n",
    "    operation = input(\"Enter: (C)reate (R)ead (U)pdate or (D)elete or (S)chema\")\n",
    "    if operation.lower() == 'c':\n",
    "        create()\n",
    "    elif operation.lower() == 'r':\n",
    "        read()\n",
    "    elif operation.lower() == 'u':\n",
    "        update()\n",
    "    elif operation.lower() == 'd':\n",
    "        delete()\n",
    "    elif operation.lower() == 's':\n",
    "        schema()\n",
    "    elif len(operation)==0: # Escape Key\n",
    "        return\n",
    "    else:\n",
    "        print(\"Please enter c, r, u, or d\") \n",
    "    menu() # recursion, repeat menu\n",
    "        \n",
    "try:\n",
    "    menu() # start menu\n",
    "except:\n",
    "    print(\"Perform Jupyter 'Run All' prior to starting menu\")\n"
   ]
  },
  {
   "attachments": {},
   "cell_type": "markdown",
   "metadata": {},
   "source": [
    "# Hacks\n",
    "- Add this Blog to you own Blogging site.  In the Blog add notes and observations on each code cell.\n",
    "- In this implementation, do you see procedural abstraction?\n",
    "- In 2.4a or 2.4b lecture\n",
    "    - Do you see data abstraction?  Complement this with Debugging example.\n",
    "    - Use Imperative or OOP style to Create a new Table or do something that applies to your CPT project.\n",
    "    \n",
    "\n",
    "Reference... [sqlite documentation](https://www.sqlitetutorial.net/sqlite-python/creating-tables/)\n"
   ]
  },
  {
   "attachments": {},
   "cell_type": "markdown",
   "metadata": {},
   "source": [
    "# Completed Hacks\n",
    "- In this implementation, do you see procedural abstraction?\n",
    "\n",
    "In this implementation, yes I see procedural abstraction. To start off, procedural abstraction provides a name for a process and allows a procedure to be only knowing what it does not, how it does it. In this lesson, since we used the Create, Read, Update, and Delete, we used four different functions for different operations. With the use of CRUD, users can reuse the CRUD functions several times with the other users too. \n",
    "\n",
    "- In 2.4a or 2.4b lecture\n",
    "    - Do you see data abstraction?  Complement this with Debugging example.\n",
    "\n",
    "    Yes, I see data abstraction being used in the code because users cannot see any of the CRUD functions which are implemented almost invisibly. \n",
    "    \n",
    "    - Use Imperative or OOP style to Create a new Table or do something that applies to your CPT project.\n",
    "    "
   ]
  },
  {
   "attachments": {},
   "cell_type": "markdown",
   "metadata": {},
   "source": [
    "#### Here is me debugging the SQLite Code:"
   ]
  },
  {
   "attachments": {},
   "cell_type": "markdown",
   "metadata": {},
   "source": [
    "![debug1](https://cdn.discordapp.com/attachments/702253958688800840/1087459590477725776/Screen_Shot_2023-03-20_at_12.19.10_PM.png)\n",
    "\n",
    "![debug2](https://cdn.discordapp.com/attachments/702253958688800840/1087459637923680416/Screen_Shot_2023-03-20_at_12.18.52_PM.png)\n",
    "\n",
    "![debug3](https://cdn.discordapp.com/attachments/702253958688800840/1087459702830542868/debug1.png)"
   ]
  }
 ],
 "metadata": {
  "kernelspec": {
   "display_name": "base",
   "language": "python",
   "name": "python3"
  },
  "language_info": {
   "codemirror_mode": {
    "name": "ipython",
    "version": 3
   },
   "file_extension": ".py",
   "mimetype": "text/x-python",
   "name": "python",
   "nbconvert_exporter": "python",
   "pygments_lexer": "ipython3",
   "version": "3.9.12"
  },
  "orig_nbformat": 4,
  "vscode": {
   "interpreter": {
    "hash": "8b82d5009c68ba5675978267e2b13a671f2a7143d61273c5a3813c97e0b2493d"
   }
  }
 },
 "nbformat": 4,
 "nbformat_minor": 2
}

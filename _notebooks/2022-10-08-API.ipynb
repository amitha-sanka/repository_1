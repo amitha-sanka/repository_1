{
 "cells": [
  {
   "cell_type": "markdown",
   "metadata": {},
   "source": [
    "# API \n",
    "> YouTube Music API \n",
    "\n",
    "- title: API Example: YouTube Music API\n",
    "- toc: true\n",
    "- image: /images/rapidapi.png\n",
    "- permalink: /techtalk/rapidapi\n",
    "- categories: [1.A, 5.B, 5.D]\n",
    "- tags: [api, rapidapi]\n",
    "- type: pbl\n",
    "- week: 7"
   ]
  },
  {
   "cell_type": "code",
   "execution_count": 1,
   "metadata": {
    "vscode": {
     "languageId": "shellscript"
    }
   },
   "outputs": [
    {
     "name": "stdout",
     "output_type": "stream",
     "text": [
      "{\"ok\":true,\"result\":{\"songs\":[{\"id\":\"yQBGdXGCUbA\",\"name\":\"Eminem - Killshot\",\"title\":\"Killshot\",\"artists\":[{\"artist_id\":\"UCedvOgsKFzcK3hA5taf3KoQ\",\"name\":\"Eminem\"}],\"album\":{\"album_id\":\"MPREb_ffSLrwxqcfd\",\"name\":\"Killshot\"},\"duration\":253,\"thumbnail\":\"https://lh3.googleusercontent.com/bVRFSKvGn8NxqDEQqedK9sZAxcRvW85feFS11zvGi8m7kXs5VxazPgjVGuuoxyCe3uu7MgOgnmuwykwF=w120-h120-l90-rj\"},{\"id\":\"BdfpV-cIkuA\",\"name\":\"Eminem - The Real Slim Shady\",\"title\":\"The Real Slim Shady\",\"artists\":[{\"artist_id\":\"UCedvOgsKFzcK3hA5taf3KoQ\",\"name\":\"Eminem\"}],\"album\":{\"album_id\":\"MPREb_yqgLQ6ULp6o\",\"name\":\"Curtain Call: The Hits\"},\"duration\":283,\"thumbnail\":\"https://lh3.googleusercontent.com/aFEn-Chr8D_Q2Iu9EXwVuWwWRgZvfSbwzHuxMCnO21ivUO7vpz1MIahHA9GedlUGrHPKdPKNVnX6FNE=w120-h120-s-l90-rj\"},{\"id\":\"Ngng8UyyaGQ\",\"name\":\"Eminem - 25 To Life\",\"title\":\"25 To Life\",\"artists\":[{\"artist_id\":\"UCedvOgsKFzcK3hA5taf3KoQ\",\"name\":\"Eminem\"}],\"album\":{\"album_id\":\"MPREb_UUFKiZYr3uO\",\"name\":\"Recovery\"},\"duration\":241,\"thumbnail\":\"https://lh3.googleusercontent.com/IUuZFSUqFLMQlejTtsnLM_cB16A0T1g-savL7DYbWz5NFh2-DOw5-v9_PREJt9keX48NSan-8yUQCPM=w120-h120-l90-rj\"},{\"id\":\"xUXDex4v354\",\"name\":\"Eminem - Cleanin' out My Closet\",\"title\":\"Cleanin' out My Closet\",\"artists\":[{\"artist_id\":\"UCedvOgsKFzcK3hA5taf3KoQ\",\"name\":\"Eminem\"}],\"album\":{\"album_id\":\"MPREb_m6898o4iV7k\",\"name\":\"The Eminem Show\"},\"duration\":298,\"thumbnail\":\"https://lh3.googleusercontent.com/OHJbRg4Bino9ZrrWAJ24QEfZU6RVNOGPUAF90jtlND472g4FhFu53einDnUM5pEL4Rt26zR2YGSNfqpo=w120-h120-s-l90-rj\"},{\"id\":\"FjVjHkezTIM\",\"name\":\"Eminem - Mockingbird\",\"title\":\"Mockingbird\",\"artists\":[{\"artist_id\":\"UCedvOgsKFzcK3hA5taf3KoQ\",\"name\":\"Eminem\"}],\"album\":{\"album_id\":\"MPREb_yqgLQ6ULp6o\",\"name\":\"Curtain Call: The Hits\"},\"duration\":250,\"thumbnail\":\"https://lh3.googleusercontent.com/aFEn-Chr8D_Q2Iu9EXwVuWwWRgZvfSbwzHuxMCnO21ivUO7vpz1MIahHA9GedlUGrHPKdPKNVnX6FNE=w120-h120-s-l90-rj\"},{\"id\":\"zlJ0Aj9y67c\",\"name\":\"Eminem - Lose Yourself\",\"title\":\"Lose Yourself\",\"artists\":[{\"artist_id\":\"UCedvOgsKFzcK3hA5taf3KoQ\",\"name\":\"Eminem\"}],\"album\":{\"album_id\":\"MPREb_iwMjyngE7Gd\",\"name\":\"8 Mile\"},\"duration\":320,\"thumbnail\":\"https://lh3.googleusercontent.com/2moJtcAYOkXNBpRllYC9qiJcONdI9k29nH9Q-Hjl_tdh229x0pOlPEPWvhHmO8gqhVrZrWKuNQrpi9pJ=w120-h120-s-l90-rj\"},{\"id\":\"C2Mp48ccAqg\",\"name\":\"Eminem - If I Had\",\"title\":\"If I Had\",\"artists\":[{\"artist_id\":\"UCedvOgsKFzcK3hA5taf3KoQ\",\"name\":\"Eminem\"}],\"album\":{\"album_id\":\"MPREb_C4vvzBDrV4s\",\"name\":\"The Slim Shady LP\"},\"duration\":245,\"thumbnail\":\"https://lh3.googleusercontent.com/RlNQH10lYn2OcqkI4eAeQJl5UV83H40ifk8TRkQKaYB3-5o-SepHkMexf6tqeyuGPRlumFWh2N1_olui=w120-h120-s-l90-rj\"},{\"id\":\"c4Yz9o5UtN8\",\"name\":\"Eminem - Cold Wind Blows\",\"title\":\"Cold Wind Blows\",\"artists\":[{\"artist_id\":\"UCedvOgsKFzcK3hA5taf3KoQ\",\"name\":\"Eminem\"}],\"album\":{\"album_id\":\"MPREb_UUFKiZYr3uO\",\"name\":\"Recovery\"},\"duration\":303,\"thumbnail\":\"https://lh3.googleusercontent.com/IUuZFSUqFLMQlejTtsnLM_cB16A0T1g-savL7DYbWz5NFh2-DOw5-v9_PREJt9keX48NSan-8yUQCPM=w120-h120-l90-rj\"},{\"id\":\"HGnpwvw3cwM\",\"name\":\"Eminem - Till I Collapse (Instrumental)\",\"title\":\"Till I Collapse (Instrumental)\",\"artists\":[{\"artist_id\":\"UCedvOgsKFzcK3hA5taf3KoQ\",\"name\":\"Eminem\"}],\"album\":{\"album_id\":\"MPREb_nVOvQM1ODKM\",\"name\":\"The Eminem Show (Expanded Edition)\"},\"duration\":346,\"thumbnail\":\"https://lh3.googleusercontent.com/qZ1t1WxAxBits3wzoatt34NtCK3Nwq6w3Z7L_UFVL6zxusQzAh07TpwXOi2M3_mgykASPVxT2CAh0ul6=w120-h120-l90-rj\"},{\"id\":\"o9K0lsK6qLM\",\"name\":\"Eminem - Stan (feat. Dido)\",\"title\":\"Stan (feat. Dido)\",\"artists\":[{\"artist_id\":\"UCedvOgsKFzcK3hA5taf3KoQ\",\"name\":\"Eminem\"}],\"album\":{\"album_id\":\"MPREb_yqgLQ6ULp6o\",\"name\":\"Curtain Call: The Hits\"},\"duration\":402,\"thumbnail\":\"https://lh3.googleusercontent.com/aFEn-Chr8D_Q2Iu9EXwVuWwWRgZvfSbwzHuxMCnO21ivUO7vpz1MIahHA9GedlUGrHPKdPKNVnX6FNE=w120-h120-s-l90-rj\"},{\"id\":\"37-4H5wwrqc\",\"name\":\"Eminem - So Bad\",\"title\":\"So Bad\",\"artists\":[{\"artist_id\":\"UCedvOgsKFzcK3hA5taf3KoQ\",\"name\":\"Eminem\"}],\"album\":{\"album_id\":\"MPREb_UUFKiZYr3uO\",\"name\":\"Recovery\"},\"duration\":325,\"thumbnail\":\"https://lh3.googleusercontent.com/IUuZFSUqFLMQlejTtsnLM_cB16A0T1g-savL7DYbWz5NFh2-DOw5-v9_PREJt9keX48NSan-8yUQCPM=w120-h120-l90-rj\"},{\"id\":\"-SeVN2u5Axc\",\"name\":\"Eminem - Kim\",\"title\":\"Kim\",\"artists\":[{\"artist_id\":\"UCedvOgsKFzcK3hA5taf3KoQ\",\"name\":\"Eminem\"}],\"album\":{\"album_id\":\"MPREb_1Xjf214SdV1\",\"name\":\"The Marshall Mathers LP\"},\"duration\":377,\"thumbnail\":\"https://lh3.googleusercontent.com/O-SeXg61tYo15uWSBzWPVoUlBx2mQAioidlHq3y-AurmaQZI2Vso7BJoGeDNAm2g6HquAq1z4g-1EBI=w120-h120-l90-rj\"},{\"id\":\"rm4vsbU7KDo\",\"name\":\"Eminem - Ass Like That\",\"title\":\"Ass Like That\",\"artists\":[{\"artist_id\":\"UCedvOgsKFzcK3hA5taf3KoQ\",\"name\":\"Eminem\"}],\"album\":{\"album_id\":\"MPREb_xFN2XG22AXC\",\"name\":\"Encore\"},\"duration\":265,\"thumbnail\":\"https://lh3.googleusercontent.com/oWyLklmIlgBVjLy63kmFrXfgmzK8EIwpzyXneeLu3Ly6eqB_Usf7zZhZzo-LlwbxMx4WugYNW1Lp-ec=w120-h120-l90-rj\"},{\"id\":\"R_XFVAwqi78\",\"name\":\"Eminem - Ass Like That\",\"title\":\"Ass Like That\",\"artists\":[{\"artist_id\":\"UCedvOgsKFzcK3hA5taf3KoQ\",\"name\":\"Eminem\"}],\"album\":{\"album_id\":\"MPREb_oP4NDMlqZ46\",\"name\":\"Encore (Deluxe Version)\"},\"duration\":266,\"thumbnail\":\"https://lh3.googleusercontent.com/Fp3zzELDt-balZmFXn90SYig9ZpzNKm9htNPo6RjvkGHx1l8rYxB41kPFngtDc4EP5frL1uMJmPKLb1Q9A=w120-h120-l90-rj\"},{\"id\":\"qwB3JZoaOIk\",\"name\":\"Eminem - W.T.P.\",\"title\":\"W.T.P.\",\"artists\":[{\"artist_id\":\"UCedvOgsKFzcK3hA5taf3KoQ\",\"name\":\"Eminem\"}],\"album\":{\"album_id\":\"MPREb_UUFKiZYr3uO\",\"name\":\"Recovery\"},\"duration\":238,\"thumbnail\":\"https://lh3.googleusercontent.com/IUuZFSUqFLMQlejTtsnLM_cB16A0T1g-savL7DYbWz5NFh2-DOw5-v9_PREJt9keX48NSan-8yUQCPM=w120-h120-l90-rj\"},{\"id\":\"ifi6mPWoXxY\",\"name\":\"Eminem - Brain Damage\",\"title\":\"Brain Damage\",\"artists\":[{\"artist_id\":\"UCedvOgsKFzcK3hA5taf3KoQ\",\"name\":\"Eminem\"}],\"album\":{\"album_id\":\"MPREb_C4vvzBDrV4s\",\"name\":\"The Slim Shady LP\"},\"duration\":226,\"thumbnail\":\"https://lh3.googleusercontent.com/RlNQH10lYn2OcqkI4eAeQJl5UV83H40ifk8TRkQKaYB3-5o-SepHkMexf6tqeyuGPRlumFWh2N1_olui=w120-h120-s-l90-rj\"},{\"id\":\"Z2ccere3pAk\",\"name\":\"Eminem - Love You More\",\"title\":\"Love You More\",\"artists\":[{\"artist_id\":\"UCedvOgsKFzcK3hA5taf3KoQ\",\"name\":\"Eminem\"}],\"album\":{\"album_id\":\"MPREb_rz3X96a0jB0\",\"name\":\"Encore (Deluxe)\"},\"duration\":282,\"thumbnail\":\"https://lh3.googleusercontent.com/4fOod41r9JvpRi0dlOChdvhnPoMFJYv1xh3qfTvNllMlhHVrY8jkLk-eNSjDiOgCPHuphW45fP8HrXdheQ=w120-h120-s-l90-rj\"},{\"id\":\"cPwC1uks0w4\",\"name\":\"Eminem - Killer (Remix) (feat. Jack Harlow & Cordae)\",\"title\":\"Killer (Remix) (feat. Jack Harlow & Cordae)\",\"artists\":[{\"artist_id\":\"UCedvOgsKFzcK3hA5taf3KoQ\",\"name\":\"Eminem\"}],\"album\":{\"album_id\":\"MPREb_FRKTfWn0yyw\",\"name\":\"Killer (Remix)\"},\"duration\":237,\"thumbnail\":\"https://lh3.googleusercontent.com/wmNI8bxqo6DYEct4Z93OB3vVde8HnKp4MSae-_eE1w89GFAre0DvrPsUbkCgrUk3P-mGArzCaUtSzPgZ=w120-h120-l90-rj\"},{\"id\":\"-T5I__Jdl3w\",\"name\":\"Eminem - 8 Mile\",\"title\":\"8 Mile\",\"artists\":[{\"artist_id\":\"UCedvOgsKFzcK3hA5taf3KoQ\",\"name\":\"Eminem\"}],\"album\":{\"album_id\":\"MPREb_iwMjyngE7Gd\",\"name\":\"8 Mile\"},\"duration\":359,\"thumbnail\":\"https://lh3.googleusercontent.com/2moJtcAYOkXNBpRllYC9qiJcONdI9k29nH9Q-Hjl_tdh229x0pOlPEPWvhHmO8gqhVrZrWKuNQrpi9pJ=w120-h120-s-l90-rj\"},{\"id\":\"ntK-ghsi9Rw\",\"name\":\"Eminem - The King and I (From the Original Motion Picture Soundtrack ELVIS) (feat. CeeLo Green)\",\"title\":\"The King and I (From the Original Motion Picture Soundtrack ELVIS) (feat. CeeLo Green)\",\"artists\":[{\"artist_id\":\"UCedvOgsKFzcK3hA5taf3KoQ\",\"name\":\"Eminem\"}],\"album\":{\"album_id\":\"MPREb_v8P98gY8KwL\",\"name\":\"The King and I (From the Original Motion Picture Soundtrack ELVIS)\"},\"duration\":194,\"thumbnail\":\"https://lh3.googleusercontent.com/l_3FIudP9dG6kZq_R47RrpUgL3M1QpGLeC0Ller7gPHBS7LYYpibDiPy3bEgL1NGsILzRJsX4pTNHjf1kw=w120-h120-l90-rj\"}],\"videos\":[{\"id\":\"_Yhyp-_hX2s\",\"title\":\"Eminem - Lose Yourself [HD]\",\"duration\":324},{\"id\":\"r_0JjYUe5jo\",\"title\":\"Godzilla (feat. Juice WRLD)\",\"duration\":267},{\"id\":\"YVkUvmDQ3HY\",\"title\":\"Without Me MTV Version\",\"duration\":298},{\"id\":\"uelHwf8o7_U\",\"title\":\"Love The Way You Lie Explicit Version, Closed Captioned (feat. Rihanna)\",\"duration\":267},{\"id\":\"37V3b39_EXw\",\"title\":\"Eminem - Mockingbird (Lyrics)\",\"duration\":254},{\"id\":\"NI4qHvsjz7I\",\"title\":\"Won't Back Down [Lyric Video] (feat. P!nk)\",\"duration\":266},{\"id\":\"XbGs_qK2PQA\",\"title\":\"Rap God\",\"duration\":370},{\"id\":\"jFV3X4dZtOs\",\"title\":\"Eminem ft. Billie Eilish - Red (2022)\",\"duration\":256},{\"id\":\"8CdcCD5V-d8\",\"title\":\"Venom\",\"duration\":296},{\"id\":\"EksSDDte7EM\",\"title\":\"The King and I (From the Original Motion Picture Soundtrack ELVIS) (feat. CeeLo Green)\",\"duration\":194},{\"id\":\"z3JAKqsTBYU\",\"title\":\"Eminem - Mockingbird\",\"duration\":252},{\"id\":\"7YuAzR2XVAM\",\"title\":\"Eminem - Lose Yourself (Official Video)\",\"duration\":329},{\"id\":\"eJO5HU_7_1w\",\"title\":\"The Real Slim Shady Edited\",\"duration\":269},{\"id\":\"ZbytR2avo-0\",\"title\":\"Eminem - Without Me (lyrics)\",\"duration\":292}]}}\n"
     ]
    }
   ],
   "source": [
    "import requests\n",
    "\n",
    "url = \"https://youtube-music1.p.rapidapi.com/v2/search\"\n",
    "\n",
    "querystring = {\"query\":\"eminem\"}\n",
    "\n",
    "headers = {\n",
    "\t\"X-RapidAPI-Key\": \"8ca68e698emsh077b34dcb5cedc7p176bfdjsn4a11c2cb1bef\",\n",
    "\t\"X-RapidAPI-Host\": \"youtube-music1.p.rapidapi.com\"\n",
    "}\n",
    "\n",
    "response = requests.request(\"GET\", url, headers=headers, params=querystring)\n",
    "\n",
    "print(response.text)"
   ]
  }
 ],
 "metadata": {
  "kernelspec": {
   "display_name": "Python 3.9.12 ('base')",
   "language": "python",
   "name": "python3"
  },
  "language_info": {
   "codemirror_mode": {
    "name": "ipython",
    "version": 3
   },
   "file_extension": ".py",
   "mimetype": "text/x-python",
   "name": "python",
   "nbconvert_exporter": "python",
   "pygments_lexer": "ipython3",
   "version": "3.9.12"
  },
  "orig_nbformat": 4,
  "vscode": {
   "interpreter": {
    "hash": "6a7ffd337263e842f3b464f5c9a18b5093416ef367acb95f7729f0a713abdb5e"
   }
  }
 },
 "nbformat": 4,
 "nbformat_minor": 2
}

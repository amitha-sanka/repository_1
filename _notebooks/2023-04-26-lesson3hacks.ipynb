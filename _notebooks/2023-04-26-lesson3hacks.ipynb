{
 "cells": [
  {
   "attachments": {},
   "cell_type": "markdown",
   "metadata": {},
   "source": [
    "# Lesson 3 Hacks - 04/26/2023\n",
    "> P4-Y 4/26 "
   ]
  },
  {
   "attachments": {},
   "cell_type": "markdown",
   "metadata": {},
   "source": [
    "## Binary Math \n",
    "\n",
    "**Question: How do you think we should find the difference of two binary numbers? The product? The quotient? What rules need to be followed for those operations? Look into all of this on the Internet and note down important information you find (0.45)**\n",
    "\n",
    "In order to find the difference of two binary numbers, the borrowing method needs to be used. After researching, I found that this was the best and easy way that made sense to me. First, you subtract the right binary number and the right binary number from the minued. In some cases, depending on the number you need to borrow from the left and add two to the minued. The next step is to just subtract the remaining numbers and borrow depending on the circumstance. To find the product of binary numbers, its like decimal multiplcation. So, you multiply one number by the other and you add the product results. To find the quotient, you need to divide both the binary numbers, using long division and dividing decimals. Then, this all leads to your quotient of the binary numbers. \n",
    "\n",
    "**Subtracting Binary Numbers Rules**\n",
    "\n",
    "1-1 | 1-0 | 0-1 | 0-0\n",
    "-- | -- | -- | -- \n",
    "0 | 1 | 1 | 0\n",
    "\n",
    "**Multiplying Binary Numbers Rules**\n",
    "\n",
    "1x1 | 1x0 | 0x1 | 0x0\n",
    "-- | -- | -- | -- \n",
    "1 | 0 | 0 | 0\n",
    "\n",
    "**Dividing Binary Numbers Rules**\n",
    "\n",
    "1/1 | 0/1 | \n",
    "-- | -- | \n",
    "1 | 0 | \n",
    "\n",
    "\n",
    "\n",
    "\n",
    "\n",
    "\n",
    "Here, I made a submenu on my blog for the buttons. "
   ]
  },
  {
   "attachments": {},
   "cell_type": "markdown",
   "metadata": {},
   "source": [
    "## Binary Logic\n",
    "\n",
    "![quizresults](https://cdn.discordapp.com/attachments/1010052426490982461/1101746784805601360/Screen_Shot_2023-04-28_at_9.59.18_PM.png)\n",
    "\n",
    "\n",
    "I got 12/12 on the quiz and the quiz took me awhile to complete because I had to reference the notes on the website and reread them to understand them thoroughly. \n"
   ]
  },
  {
   "attachments": {},
   "cell_type": "markdown",
   "metadata": {},
   "source": [
    "## Logic Gates Hacks \n",
    "\n",
    "1.How can logic gates be used to execute basic computer functions?(1-2 sentences)\n",
    "\n",
    "Logic gates can be used to execute basic computer functions by being combined to perform basic computer functions. They can often perform functions like arithmetic operations, data storage, and decision making.\n",
    "\n",
    "2.What is the difference between boolean operations and logic gates?(1-2 sentences)\n",
    "\n",
    "The difference between boolean expressions and logic gates is that boolean operations are mathematical functions used on boolean values. Whereas, logic gates are the realization of Boolean operations. Logic gates process binary data in a computer by performing Boolean logic operations like AND, OR, NOT, and XOR.\n",
    "\n",
    "3.Complete this quiz and correct any mistakes in your blog.\n",
    "\n",
    "![khanaquiz](https://cdn.discordapp.com/attachments/1010052426490982461/1101675341719805993/Screen_Shot_2023-04-28_at_2.19.32_PM.png)"
   ]
  },
  {
   "attachments": {},
   "cell_type": "markdown",
   "metadata": {},
   "source": [
    "## Github Pages\n",
    "\n",
    "Another hosting service website other than Github is GoDaddy. GoDaddy is a website hosting service that includes free domain and SSL. A benefit and advantage of GoDaddy is its user-friendly website builder. It allows users to easily create and customize professional websites without needing  coding or technical expertise. This feature sets it apart from other hosting services website that may require more technical knowledge to create a website."
   ]
  },
  {
   "attachments": {},
   "cell_type": "markdown",
   "metadata": {},
   "source": [
    "## APIs"
   ]
  },
  {
   "cell_type": "markdown",
   "metadata": {},
   "source": []
  }
 ],
 "metadata": {
  "kernelspec": {
   "display_name": "base",
   "language": "python",
   "name": "python3"
  },
  "language_info": {
   "codemirror_mode": {
    "name": "ipython",
    "version": 3
   },
   "file_extension": ".py",
   "mimetype": "text/x-python",
   "name": "python",
   "nbconvert_exporter": "python",
   "pygments_lexer": "ipython3",
   "version": "3.9.12"
  },
  "orig_nbformat": 4
 },
 "nbformat": 4,
 "nbformat_minor": 2
}

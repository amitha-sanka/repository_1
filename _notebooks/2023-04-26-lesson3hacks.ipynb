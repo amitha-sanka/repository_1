{
 "cells": [
  {
   "attachments": {},
   "cell_type": "markdown",
   "metadata": {},
   "source": [
    "# Lesson 3 Hacks - 04/26/2023\n",
    "> P4-Y 4/26 "
   ]
  },
  {
   "attachments": {},
   "cell_type": "markdown",
   "metadata": {},
   "source": [
    "# Binary Math \n",
    "\n",
    "## Question: \n",
    "\n",
    "**How do you think we should find the difference of two binary numbers? The product? The quotient? What rules need to be followed for those operations? Look into all of this on the Internet and note down important information you find (0.45)**\n",
    "\n",
    "In order to find the difference of two binary numbers, the borrowing method needs to be used. After researching, I found that this was the best and easy way that made sense to me. First, you subtract the right binary number and the right binary number from the minued. In some cases, depending on the number you need to borrow from the left and add two to the minued. The next step is to just subtract the remaining numbers and borrow depending on the circumstance. To find the product of binary numbers, its like decimal multiplcation. So, you multiply one number by the other and you add the product results. To find the quotient, you need to divide both the binary numbers, using long division and dividing decimals. Then, this all leads to your quotient of the binary numbers. \n",
    "\n",
    "## Subtracting Binary Numbers Rules\n",
    "\n",
    "1-1 | 1-0 | 0-1 | 0-0\n",
    "-- | -- | -- | -- \n",
    "0 | 1 | 1 | 0\n",
    "\n",
    "## Multiplying Binary Numbers Rules\n",
    "\n",
    "1x1 | 1x0 | 0x1 | 0x0\n",
    "-- | -- | -- | -- \n",
    "1 | 0 | 0 | 0\n",
    "\n",
    "## Dividing Binary Numbers Rules\n",
    "\n",
    "1/1 | 0/1 | \n",
    "-- | -- | \n",
    "1 | 0 | \n",
    "\n",
    "![submenu_pic](https://cdn.discordapp.com/attachments/1010052426490982461/1101757636950638632/Screen_Shot_2023-04-28_at_11.31.21_PM.png)\n",
    "\n",
    "Here, I made a submenu on my blog for all 3 buttons, multiply, divide, and subtract."
   ]
  },
  {
   "attachments": {},
   "cell_type": "markdown",
   "metadata": {},
   "source": [
    "# Binary Logic\n",
    "\n",
    "![quizresults](https://cdn.discordapp.com/attachments/1010052426490982461/1101746784805601360/Screen_Shot_2023-04-28_at_9.59.18_PM.png)\n",
    "\n",
    "\n",
    "I got 12/12 on the quiz and the quiz took me awhile to complete because I had to reference the notes on the website and reread them to understand them thoroughly. \n",
    "\n",
    "## Coding Challenges"
   ]
  },
  {
   "cell_type": "code",
   "execution_count": null,
   "metadata": {},
   "outputs": [],
   "source": [
    "import csv\n",
    "\n",
    "data = []\n",
    "with open('random_numbers_1000.csv', 'r') as files:\n",
    "    reader = csv.reader(files)\n",
    "    for row in reader:\n",
    "        data.extend([int(num) for num in row])\n",
    "\n",
    "meanCalc = sum(data) / len(data)\n",
    "\n",
    "oddNumbers = 0\n",
    "for i in range(len(data)):\n",
    "    if data[i] % 2 == 1:\n",
    "        data[i] = 0\n",
    "        oddNumbers += 1\n",
    "    elif data[i] % 5 == 0:\n",
    "       data[i] *= 2\n",
    "\n",
    "updateMean = sum(data) / len(data)\n",
    "\n",
    "print(\"Mean of CSV File Data: \", meanCalc)\n",
    "print(\"Mean of New Data: \", updateMean)\n",
    "print(\"Amount of Odds: \", oddNumbers)"
   ]
  },
  {
   "attachments": {},
   "cell_type": "markdown",
   "metadata": {},
   "source": [
    "    Mean of CSV File Data: 63.6\n",
    "    Mean of New Data: 69\n",
    "    Amount of Odds: 358"
   ]
  },
  {
   "attachments": {},
   "cell_type": "markdown",
   "metadata": {},
   "source": [
    "# Logic Gates  \n",
    "\n",
    "1.How can logic gates be used to execute basic computer functions?(1-2 sentences)\n",
    "\n",
    "Logic gates can be used to execute basic computer functions by being combined to perform basic computer functions. They can often perform functions like arithmetic operations, data storage, and decision making.\n",
    "\n",
    "2.What is the difference between boolean operations and logic gates?(1-2 sentences)\n",
    "\n",
    "The difference between boolean expressions and logic gates is that boolean operations are mathematical functions used on boolean values. Whereas, logic gates are the realization of Boolean operations. Logic gates process binary data in a computer by performing Boolean logic operations like AND, OR, NOT, and XOR.\n",
    "\n",
    "3.Complete this quiz and correct any mistakes in your blog.\n",
    "\n",
    "![khanaquiz](https://cdn.discordapp.com/attachments/1010052426490982461/1101675341719805993/Screen_Shot_2023-04-28_at_2.19.32_PM.png)"
   ]
  },
  {
   "attachments": {},
   "cell_type": "markdown",
   "metadata": {},
   "source": [
    "# Fetching"
   ]
  },
  {
   "cell_type": "code",
   "execution_count": null,
   "metadata": {
    "vscode": {
     "languageId": "javascript"
    }
   },
   "outputs": [],
   "source": [
    "data = [\n",
    "  { id: 1, name: 'Bob', grade: 11 },\n",
    "  { id: 2, name: 'Bill', grade: 9 },\n",
    "  { id: 3, name: 'Maxwell', grade: 9 },\n",
    "  { id: 4, name: 'Maxine', grade: 10 },\n",
    "  { id: 5, name: 'Sally', grade: 9 },\n",
    "  { id: 6, name: 'Mary', grade: 12 }\n",
    "\n",
    "];\n",
    "const filterGrades = data.filter((item) => {\n",
    "  return item.grade > 10;\n",
    "});\n",
    "\n",
    "console.log(filterGrades);"
   ]
  },
  {
   "attachments": {},
   "cell_type": "markdown",
   "metadata": {},
   "source": [
    "    { id: 1, name: 'Bob', grade: 11}, { id: 6, name: 'Mary', grade: 12 }"
   ]
  },
  {
   "attachments": {},
   "cell_type": "markdown",
   "metadata": {},
   "source": [
    "# Github Pages\n",
    "\n",
    "Another hosting service website other than Github is GoDaddy. GoDaddy is a website hosting service that includes free domain and SSL. A benefit and advantage of GoDaddy is its user-friendly website builder. It allows users to easily create and customize professional websites without needing  coding or technical expertise. This feature sets it apart from other hosting services website that may require more technical knowledge to create a website. This is just one example of a hosting service website, there are several more such as Netlify, which has its own benefits, advantages, and features."
   ]
  },
  {
   "attachments": {},
   "cell_type": "markdown",
   "metadata": {},
   "source": [
    "# APIs"
   ]
  },
  {
   "cell_type": "code",
   "execution_count": 21,
   "metadata": {},
   "outputs": [
    {
     "name": "stdout",
     "output_type": "stream",
     "text": [
      "{'location': {'capital': 'Ottawa', 'currencies': ['Canadian dollar'], 'languages': ['English', 'French'], 'name': 'Canada', 'population': 38005238, 'region': 'Americas', 'subregion': 'Northern America'}}\n",
      "-------------  -------------  ----------------  ---------------  ----------  --------  ----------------\n",
      "Country        Capital        Currencies        Languages        Population  Region    Subregion\n",
      "Canada         Ottawa         Canadian Dollars  English, French  38005238    Americas  Northern America\n",
      "United States  Washington DC  US Dollars        English          58005238    Americas  Northern America\n",
      "Mexico         Mexico City    Pesos             Spanish          1269362     Americas  Southern America\n",
      "-------------  -------------  ----------------  ---------------  ----------  --------  ----------------\n"
     ]
    }
   ],
   "source": [
    "import requests\n",
    "from tabulate import tabulate\n",
    "\n",
    "\n",
    "url = \"https://country-location-api.p.rapidapi.com/location\"\n",
    "\n",
    "querystring = {\"country\":\"canada\"}\n",
    "\n",
    "headers = {\n",
    "\t\"content-type\": \"application/octet-stream\",\n",
    "\t\"X-RapidAPI-Key\": \"8ca68e698emsh077b34dcb5cedc7p176bfdjsn4a11c2cb1bef\",\n",
    "\t\"X-RapidAPI-Host\": \"country-location-api.p.rapidapi.com\"\n",
    "}\n",
    "table = [['Country', 'Capital', 'Currencies', 'Languages', 'Population', 'Region', 'Subregion'], \n",
    "         ['Canada', 'Ottawa', 'Canadian Dollars', 'English, French', 38005238, 'Americas', 'Northern America'], \n",
    "         ['United States', 'Washington DC', 'US Dollars', 'English', 58005238, 'Americas', 'Northern America'], \n",
    "         ['Mexico', 'Mexico City', 'Pesos', 'Spanish', 1269362, 'Americas', 'Southern America']]\n",
    "response = requests.get(url, headers=headers, params=querystring)\n",
    "\n",
    "print(response.json())\n",
    "print(tabulate(table))"
   ]
  },
  {
   "attachments": {},
   "cell_type": "markdown",
   "metadata": {},
   "source": [
    "This is a [third party API](https://rapidapi.com/Emiledaou/api/country-location-api/) about country location and details that I used above."
   ]
  },
  {
   "attachments": {},
   "cell_type": "markdown",
   "metadata": {},
   "source": [
    "# Data Compression \n",
    "\n",
    "Lossless images are in a JPG image format, consisting of lossy data. JPGs are always in a lossless format. They work by shorter code segments that are compressed and also go back into their original form. A few examples of lossless compression algorithms include deflate and Huffman coding. \n",
    "\n",
    "Whereas lossy image, which means it is in a PNG format. PNG uses a compression algorithm which keeps the picture's original data without information/data being lost. Lossy algorithms work by removing the unneccesary data and unimportant data, this plays a key role in compression. This type of compression can be seen in audious and pictures and examples of lossy compression algorithms include MP3 and JPEG files. \n",
    "\n",
    "This is an example of a lossy versus lossless data compression. \n",
    "\n",
    "![exampleoflossyvlossless](https://cdn.discordapp.com/attachments/1010052426490982461/1101779451815137290/Screen_Shot_2023-04-29_at_12.58.04_AM.png)\n"
   ]
  },
  {
   "attachments": {},
   "cell_type": "markdown",
   "metadata": {},
   "source": [
    "# The Game \n",
    "\n",
    "![thegame](https://cdn.discordapp.com/attachments/1010052426490982461/1101787921008316507/Screen_Shot_2023-04-29_at_1.30.51_AM.png)"
   ]
  },
  {
   "attachments": {},
   "cell_type": "markdown",
   "metadata": {},
   "source": [
    "## Level 1:\n",
    "\n",
    "- The first level works that the way it is because the result of the first one is 1 due to XOR. Knowing this, that part must be equal to 0. I also used the truth table, which is how I got to the answer XOR. \n",
    "\n",
    "## Level 2:\n",
    "\n",
    "- The second level works the way it does because the XNOR gate is a product of 1 being 0 and 0. The or gate has inputs of 1 and 0, with a product of 0. Adding the combination of XNOR and NAND gates produces the result."
   ]
  }
 ],
 "metadata": {
  "kernelspec": {
   "display_name": "base",
   "language": "python",
   "name": "python3"
  },
  "language_info": {
   "codemirror_mode": {
    "name": "ipython",
    "version": 3
   },
   "file_extension": ".py",
   "mimetype": "text/x-python",
   "name": "python",
   "nbconvert_exporter": "python",
   "pygments_lexer": "ipython3",
   "version": "3.9.12"
  },
  "orig_nbformat": 4
 },
 "nbformat": 4,
 "nbformat_minor": 2
}

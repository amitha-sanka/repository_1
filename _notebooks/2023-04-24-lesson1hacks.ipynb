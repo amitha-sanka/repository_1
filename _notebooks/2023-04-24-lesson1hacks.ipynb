{
 "cells": [
  {
   "attachments": {},
   "cell_type": "markdown",
   "metadata": {},
   "source": [
    "# Lesson 1 Hacks - 04/24/2023\n",
    "> Notes and Hacks \n",
    "- comments: true\n",
    "- toc: true"
   ]
  },
  {
   "attachments": {},
   "cell_type": "markdown",
   "metadata": {},
   "source": [
    "# OpenSSL Quiz \n",
    "\n",
    "1. What is the purpose of OpenSSL? \n",
    "\n",
    "D. All of the above \n",
    "\n",
    "The answer is D because OpenSSL genrates public keys, encrypts data, and signs certificates. \n",
    "\n",
    "2. What is the role of the private key in OpenSSL?\n",
    "\n",
    "3. What is the SSL/TLS handshake?\n",
    "\n",
    "4. What are some command-line tools provided by OpenSSL?\n",
    "\n",
    "# Lego Quiz \n",
    "\n",
    "1. What is Lego? \n",
    "\n",
    "B. An open-source ACME client for obtaining SSL/TLS certificates\n",
    "\n",
    "The answer is B because lego helps automate the process of obtaiing and renewing SSL/TLS certifcates. \n",
    "\n",
    "2. What challenges does Lego support for domain validation?\n",
    "\n",
    "B. HTTP-01 and DNS-01 \n",
    "\n",
    "The answer is B because it supports these for domain validation. \n",
    "\n",
    "3. What features does Lego provide for managing SSL/TLS certificates? \n",
    "\n",
    "D. All of the above \n",
    "\n",
    "The answer is D because lego integrates with popular web servers and load balancers, has dvanced configuration options, and upport for multiple domains in a single certificate and wildcard certificate. \n",
    "\n",
    "4. How does Lego ensure that SSL/TLS certificates are always up-to-date?\n",
    "\n",
    "B. By automatically renewing the certificates because they expire \n",
    "\n",
    "The answer is B because Lego ensures that domains are always secured with up to date certificates. "
   ]
  }
 ],
 "metadata": {
  "language_info": {
   "name": "python"
  },
  "orig_nbformat": 4
 },
 "nbformat": 4,
 "nbformat_minor": 2
}

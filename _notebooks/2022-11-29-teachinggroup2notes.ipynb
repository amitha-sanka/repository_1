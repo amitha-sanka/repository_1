{
 "cells": [
  {
   "cell_type": "markdown",
   "metadata": {},
   "source": [
    "# 11/29/22 "
   ]
  },
  {
   "cell_type": "markdown",
   "metadata": {},
   "source": [
    "## Notes"
   ]
  },
  {
   "cell_type": "markdown",
   "metadata": {},
   "source": [
    "# 3.3/3.4 Videos \n",
    "\n",
    "## Learning Objective \n",
    "\n",
    "Express an algorithm that uses sequencing without using a programming language\n",
    "\n",
    "## Notes\n",
    "\n",
    "- Algorithms can be expressed in a variety of ways and can be executed by programs which are implemented using programming languages. \n",
    "- Every algorithm can be constructed using combinations of sequencing, selection, and iteration\n",
    "- Algorithm: finite set of instructions that accomplish a specific task, us as humans, do algorithms on a daily basis\n",
    "- Sequencing: steps in order, for example, doing the first step then the second then the third, etc.\n",
    "- Selection: programmer decides between two different outcomes\n",
    "- Iteration: having to repeat a step until that condition is fulfilled. \n",
    "- Plus sign: addition: a + b\n",
    "- Subtraction sign: subtraction: a - b\n",
    "- Asterisk/star: multiplication: a * b\n",
    "- Slash: division: a / b\n",
    "- MOD represents the Modulus operator\n"
   ]
  },
  {
   "cell_type": "markdown",
   "metadata": {},
   "source": [
    "# Hacks "
   ]
  },
  {
   "cell_type": "code",
   "execution_count": null,
   "metadata": {},
   "outputs": [],
   "source": [
    "numbers = [0,1,2,3,4,5,6,7,8,9,10]\n",
    "evens = []\n",
    "\n",
    "for i in numbers:\n",
    "    if (numbers[i] % 2 == 0):\n",
    "        evens.append(numbers[i])\n",
    "\n",
    "print(evens)"
   ]
  },
  {
   "cell_type": "markdown",
   "metadata": {},
   "source": [
    "## 3.3 Video 1 Hacks: \n",
    "\n",
    "1. Sequence: all the code is running in a specific order and sequence \n",
    "2. Selection: the code is selecting the even numbers by using \"[i] % 2 == 0\" , \"for i in numbers:\"\n",
    "3. Iteration: for and if of a loop \n",
    "\n",
    "## 3.3 Video 2 Hacks: \n",
    "1. A = 1 \n",
    "   B = 7\n",
    "   C = 3\n",
    "   D = 7\n",
    "\n",
    "2. 1 - the value of hot is true, the value of cold is true\n",
    "3. \n",
    "Code Segment 1:\n",
    "\n",
    "pink <-- true \n",
    "blue <-- false \n",
    "blue <-- pink \n",
    "pink <-- blue\n",
    "   \n",
    "Answer: value of pink is true and the value of blue is also true \n",
    "My answer is correct because of the true and false segments. \n",
    "\n",
    "Code Segment 2: \n",
    "\n",
    "fries <-- true \n",
    "burgers <-- false \n",
    "burgers <-- fries\n",
    "fries <-- burgers\n",
    "\n",
    "Answer: value of fries is true and the value of burgers is also true \n",
    "My answer is correct because of the true and false segments, which make the values true. \n",
    "\n",
    "6. What is the value of num1 and num2?\n",
    "\n",
    "num1 = 6\n",
    "num2 = 11\n",
    "\n",
    "## 3.4 Video 1 Hacks \n",
    "\n",
    "String Homework: \n",
    "\n",
    "Test 1:\n",
    "\n",
    "firstName <- \"Bob\" lastName <- \"Smith\" var <- substring(firstName, 1, 1) name <- concat(lastName, var) email <- concat(name, \"@gmail.com\") DISPLAY(email)\n",
    "\n",
    "What would the result be?\n",
    "\n",
    "Hint: var = \"B\" name = \"SmithB\"\n",
    "- The result would be SmithB@gmail.com\n",
    "-----------------------------------------------------------------------------\n",
    "Test 2: \n",
    "\n",
    "word1 <- \"computer\" word2 <- \"textbooks\" length1 <- len(word1)/2 length2 <- len(word2)/3 first <- substring(word1, 2, len1) second <- substring(word2, len2+3, len2) newWord <- concat(first, second) DISPLAY(newWord)\n",
    "\n",
    "- The result would be ompuook\n",
    "-----------------------------------------------------------------------------"
   ]
  },
  {
   "cell_type": "markdown",
   "metadata": {},
   "source": [
    "# Reflection\n",
    "\n",
    "For this group, I received a 1. I thoroughly completed all the hacks and followed and did them carefully. "
   ]
  }
 ],
 "metadata": {
  "kernelspec": {
   "display_name": "Python 3.9.12 ('base')",
   "language": "python",
   "name": "python3"
  },
  "language_info": {
   "name": "python",
   "version": "3.9.12"
  },
  "orig_nbformat": 4,
  "vscode": {
   "interpreter": {
    "hash": "6a7ffd337263e842f3b464f5c9a18b5093416ef367acb95f7729f0a713abdb5e"
   }
  }
 },
 "nbformat": 4,
 "nbformat_minor": 2
}
